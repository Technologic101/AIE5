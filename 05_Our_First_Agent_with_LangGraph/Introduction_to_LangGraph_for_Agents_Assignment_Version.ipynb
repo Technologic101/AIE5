{
  "cells": [
    {
      "cell_type": "markdown",
      "metadata": {
        "id": "gJXW_DgiSebM"
      },
      "source": [
        "# LangGraph and LangSmith - Agentic RAG Powered by LangChain\n",
        "\n",
        "In the following notebook we'll complete the following tasks:\n",
        "\n",
        "- 🤝 Breakout Room #1:\n",
        "  1. Install required libraries\n",
        "  2. Set Environment Variables\n",
        "  3. Creating our Tool Belt\n",
        "  4. Creating Our State\n",
        "  5. Creating and Compiling A Graph!\n",
        "\n",
        "  - 🤝 Breakout Room #2:\n",
        "  1. Evaluating the LangGraph Application with LangSmith\n",
        "  2. Adding Helpfulness Check and \"Loop\" Limits\n",
        "  3. LangGraph for the \"Patterns\" of GenAI"
      ]
    },
    {
      "cell_type": "markdown",
      "metadata": {
        "id": "djQ3nRAgoF67"
      },
      "source": [
        "# 🤝 Breakout Room #1"
      ]
    },
    {
      "cell_type": "markdown",
      "metadata": {
        "id": "e7pQDUhUnIo8"
      },
      "source": [
        "## Part 1: LangGraph - Building Cyclic Applications with LangChain\n",
        "\n",
        "LangGraph is a tool that leverages LangChain Expression Language to build coordinated multi-actor and stateful applications that includes cyclic behaviour.\n",
        "\n",
        "### Why Cycles?\n",
        "\n",
        "In essence, we can think of a cycle in our graph as a more robust and customizable loop. It allows us to keep our application agent-forward while still giving the powerful functionality of traditional loops.\n",
        "\n",
        "Due to the inclusion of cycles over loops, we can also compose rather complex flows through our graph in a much more readable and natural fashion. Effectively allowing us to recreate application flowcharts in code in an almost 1-to-1 fashion.\n",
        "\n",
        "### Why LangGraph?\n",
        "\n",
        "Beyond the agent-forward approach - we can easily compose and combine traditional \"DAG\" (directed acyclic graph) chains with powerful cyclic behaviour due to the tight integration with LCEL. This means it's a natural extension to LangChain's core offerings!"
      ]
    },
    {
      "cell_type": "markdown",
      "metadata": {
        "id": "3_fLDElOVoop"
      },
      "source": [
        "## Task 1:  Dependencies\n",
        "\n",
        "We'll first install all our required libraries.\n",
        "\n",
        "> NOTE: If you're running this locally - please skip this step."
      ]
    },
    {
      "cell_type": "code",
      "execution_count": 1,
      "metadata": {
        "colab": {
          "base_uri": "https://localhost:8080/"
        },
        "id": "KaVwN269EttM",
        "outputId": "ba50f775-3957-4d88-9a88-43acc6966dda"
      },
      "outputs": [
        {
          "name": "stdout",
          "output_type": "stream",
          "text": [
            "zsh:1: command not found: pip\n"
          ]
        }
      ],
      "source": [
        "!pip install -qU langchain langchain_openai langchain-community langgraph arxiv"
      ]
    },
    {
      "cell_type": "markdown",
      "metadata": {
        "id": "wujPjGJuoPwg"
      },
      "source": [
        "## Task 2: Environment Variables\n",
        "\n",
        "We'll want to set both our OpenAI API key and our LangSmith environment variables."
      ]
    },
    {
      "cell_type": "code",
      "execution_count": 2,
      "metadata": {
        "colab": {
          "base_uri": "https://localhost:8080/"
        },
        "id": "Jdh8CoVWHRvs",
        "outputId": "3fa78560-393c-4ee5-b871-9886bf0d70f4"
      },
      "outputs": [],
      "source": [
        "import os\n",
        "import getpass\n",
        "\n",
        "os.environ[\"OPENAI_API_KEY\"] = getpass.getpass(\"OpenAI API Key:\")"
      ]
    },
    {
      "cell_type": "markdown",
      "metadata": {
        "id": "BLmneW40276B"
      },
      "source": []
    },
    {
      "cell_type": "code",
      "execution_count": 3,
      "metadata": {
        "colab": {
          "base_uri": "https://localhost:8080/"
        },
        "id": "Jkla2fpx28QK",
        "outputId": "52d7ad22-fcb1-4abe-853b-216c55a12650"
      },
      "outputs": [],
      "source": [
        "os.environ[\"TAVILY_API_KEY\"] = getpass.getpass(\"TAVILY_API_KEY\")"
      ]
    },
    {
      "cell_type": "code",
      "execution_count": 4,
      "metadata": {
        "colab": {
          "base_uri": "https://localhost:8080/"
        },
        "id": "Nv0glIDyHmRt",
        "outputId": "b69df90a-b4e1-4ddb-9de0-882d98b68ab2"
      },
      "outputs": [],
      "source": [
        "from uuid import uuid4\n",
        "\n",
        "os.environ[\"LANGCHAIN_TRACING_V2\"] = \"true\"\n",
        "os.environ[\"LANGCHAIN_PROJECT\"] = f\"AIE5 - LangGraph - {uuid4().hex[0:8]}\"\n",
        "os.environ[\"LANGCHAIN_API_KEY\"] = getpass.getpass(\"LangSmith API Key: \")"
      ]
    },
    {
      "cell_type": "markdown",
      "metadata": {
        "id": "sBRyQmEAVzua"
      },
      "source": [
        "## Task 3: Creating our Tool Belt\n",
        "\n",
        "As is usually the case, we'll want to equip our agent with a toolbelt to help answer questions and add external knowledge.\n",
        "\n",
        "There's a tonne of tools in the [LangChain Community Repo](https://github.com/langchain-ai/langchain/tree/master/libs/community/langchain_community/tools) but we'll stick to a couple just so we can observe the cyclic nature of LangGraph in action!\n",
        "\n",
        "We'll leverage:\n",
        "\n",
        "- [Tavily Search Results](https://github.com/langchain-ai/langchain/blob/master/libs/community/langchain_community/tools/tavily_search/tool.py)\n",
        "- [Arxiv](https://github.com/langchain-ai/langchain/tree/master/libs/community/langchain_community/tools/arxiv)"
      ]
    },
    {
      "cell_type": "markdown",
      "metadata": {
        "id": "2k6n_Dob2F46"
      },
      "source": [
        "####🏗️ Activity #1:\n",
        "\n",
        "Please add the tools to use into our toolbelt.\n",
        "\n",
        "> NOTE: Each tool in our toolbelt should be a method."
      ]
    },
    {
      "cell_type": "code",
      "execution_count": 5,
      "metadata": {
        "id": "lAxaSvlfIeOg"
      },
      "outputs": [],
      "source": [
        "from langchain_community.tools.tavily_search import TavilySearchResults\n",
        "from langchain_community.tools.arxiv.tool import ArxivQueryRun\n",
        "\n",
        "tavily_tool = TavilySearchResults(max_results=5)\n",
        "\n",
        "tool_belt = [\n",
        "    tavily_tool,\n",
        "    ArxivQueryRun(),\n",
        "]"
      ]
    },
    {
      "cell_type": "markdown",
      "metadata": {
        "id": "VI-C669ZYVI5"
      },
      "source": [
        "### Model\n",
        "\n",
        "Now we can set-up our model! We'll leverage the familiar OpenAI model suite for this example - but it's not *necessary* to use with LangGraph. LangGraph supports all models - though you might not find success with smaller models - as such, they recommend you stick with:\n",
        "\n",
        "- OpenAI's GPT-3.5 and GPT-4\n",
        "- Anthropic's Claude\n",
        "- Google's Gemini\n",
        "\n",
        "> NOTE: Because we're leveraging the OpenAI function calling API - we'll need to use OpenAI *for this specific example* (or any other service that exposes an OpenAI-style function calling API."
      ]
    },
    {
      "cell_type": "code",
      "execution_count": 6,
      "metadata": {
        "id": "QkNS8rNZJs4z"
      },
      "outputs": [],
      "source": [
        "from langchain_openai import ChatOpenAI\n",
        "\n",
        "model = ChatOpenAI(model=\"gpt-4o\", temperature=0)"
      ]
    },
    {
      "cell_type": "markdown",
      "metadata": {
        "id": "Ugkj3GzuZpQv"
      },
      "source": [
        "Now that we have our model set-up, let's \"put on the tool belt\", which is to say: We'll bind our LangChain formatted tools to the model in an OpenAI function calling format."
      ]
    },
    {
      "cell_type": "code",
      "execution_count": 7,
      "metadata": {
        "id": "4OdMqFafZ_0V"
      },
      "outputs": [],
      "source": [
        "model = model.bind_tools(tool_belt)"
      ]
    },
    {
      "cell_type": "markdown",
      "metadata": {
        "id": "ERzuGo6W18Lr"
      },
      "source": [
        "#### ❓ Question #1:\n",
        "\n",
        "How does the model determine which tool to use?\n",
        "\n",
        "#### Answer:\n",
        "\n",
        "  The tool provides metadata in its class definition, which LangChain uses as a specification for OpenAI's API. The chosen model will understand the tool based on this data, and using a combination of its training, the current context, and the user query, it will select the appropriate tool and argument for the tool, and return it in a keyword argument `tool_calls`.\n"
      ]
    },
    {
      "cell_type": "markdown",
      "metadata": {
        "id": "_296Ub96Z_H8"
      },
      "source": [
        "## Task 4: Putting the State in Stateful\n",
        "\n",
        "Earlier we used this phrasing:\n",
        "\n",
        "`coordinated multi-actor and stateful applications`\n",
        "\n",
        "So what does that \"stateful\" mean?\n",
        "\n",
        "To put it simply - we want to have some kind of object which we can pass around our application that holds information about what the current situation (state) is. Since our system will be constructed of many parts moving in a coordinated fashion - we want to be able to ensure we have some commonly understood idea of that state.\n",
        "\n",
        "LangGraph leverages a `StatefulGraph` which uses an `AgentState` object to pass information between the various nodes of the graph.\n",
        "\n",
        "There are more options than what we'll see below - but this `AgentState` object is one that is stored in a `TypedDict` with the key `messages` and the value is a `Sequence` of `BaseMessages` that will be appended to whenever the state changes.\n",
        "\n",
        "Let's think about a simple example to help understand exactly what this means (we'll simplify a great deal to try and clearly communicate what state is doing):\n",
        "\n",
        "1. We initialize our state object:\n",
        "  - `{\"messages\" : []}`\n",
        "2. Our user submits a query to our application.\n",
        "  - New State: `HumanMessage(#1)`\n",
        "  - `{\"messages\" : [HumanMessage(#1)}`\n",
        "3. We pass our state object to an Agent node which is able to read the current state. It will use the last `HumanMessage` as input. It gets some kind of output which it will add to the state.\n",
        "  - New State: `AgentMessage(#1, additional_kwargs {\"function_call\" : \"WebSearchTool\"})`\n",
        "  - `{\"messages\" : [HumanMessage(#1), AgentMessage(#1, ...)]}`\n",
        "4. We pass our state object to a \"conditional node\" (more on this later) which reads the last state to determine if we need to use a tool - which it can determine properly because of our provided object!"
      ]
    },
    {
      "cell_type": "code",
      "execution_count": 8,
      "metadata": {
        "id": "mxL9b_NZKUdL"
      },
      "outputs": [],
      "source": [
        "from typing import TypedDict, Annotated\n",
        "from langgraph.graph.message import add_messages\n",
        "import operator\n",
        "from langchain_core.messages import BaseMessage\n",
        "\n",
        "class AgentState(TypedDict):\n",
        "  messages: Annotated[list, add_messages]"
      ]
    },
    {
      "cell_type": "markdown",
      "metadata": {
        "id": "vWsMhfO9grLu"
      },
      "source": [
        "## Task 5: It's Graphing Time!\n",
        "\n",
        "Now that we have state, and we have tools, and we have an LLM - we can finally start making our graph!\n",
        "\n",
        "Let's take a second to refresh ourselves about what a graph is in this context.\n",
        "\n",
        "Graphs, also called networks in some circles, are a collection of connected objects.\n",
        "\n",
        "The objects in question are typically called nodes, or vertices, and the connections are called edges.\n",
        "\n",
        "Let's look at a simple graph.\n",
        "\n",
        "![image](https://i.imgur.com/2NFLnIc.png)\n",
        "\n",
        "Here, we're using the coloured circles to represent the nodes and the yellow lines to represent the edges. In this case, we're looking at a fully connected graph - where each node is connected by an edge to each other node.\n",
        "\n",
        "If we were to think about nodes in the context of LangGraph - we would think of a function, or an LCEL runnable.\n",
        "\n",
        "If we were to think about edges in the context of LangGraph - we might think of them as \"paths to take\" or \"where to pass our state object next\".\n",
        "\n",
        "Let's create some nodes and expand on our diagram.\n",
        "\n",
        "> NOTE: Due to the tight integration with LCEL - we can comfortably create our nodes in an async fashion!"
      ]
    },
    {
      "cell_type": "code",
      "execution_count": 9,
      "metadata": {
        "id": "91flJWtZLUrl"
      },
      "outputs": [],
      "source": [
        "from langgraph.prebuilt import ToolNode\n",
        "\n",
        "def call_model(state):\n",
        "  messages = state[\"messages\"]\n",
        "  response = model.invoke(messages)\n",
        "  return {\"messages\" : [response]}\n",
        "\n",
        "tool_node = ToolNode(tool_belt)"
      ]
    },
    {
      "cell_type": "markdown",
      "metadata": {
        "id": "2bwR7MgWj3Wg"
      },
      "source": [
        "Now we have two total nodes. We have:\n",
        "\n",
        "- `call_model` is a node that will...well...call the model\n",
        "- `tool_node` is a node which can call a tool\n",
        "\n",
        "Let's start adding nodes! We'll update our diagram along the way to keep track of what this looks like!\n"
      ]
    },
    {
      "cell_type": "code",
      "execution_count": 10,
      "metadata": {
        "colab": {
          "base_uri": "https://localhost:8080/"
        },
        "id": "_vF4_lgtmQNo",
        "outputId": "a4384377-8f7a-415f-be1b-fee6169cb101"
      },
      "outputs": [
        {
          "data": {
            "text/plain": [
              "<langgraph.graph.state.StateGraph at 0x11bdeae40>"
            ]
          },
          "execution_count": 10,
          "metadata": {},
          "output_type": "execute_result"
        }
      ],
      "source": [
        "from langgraph.graph import StateGraph, END\n",
        "\n",
        "uncompiled_graph = StateGraph(AgentState)\n",
        "\n",
        "uncompiled_graph.add_node(\"agent\", call_model)\n",
        "uncompiled_graph.add_node(\"action\", tool_node)"
      ]
    },
    {
      "cell_type": "markdown",
      "metadata": {
        "id": "b8CjRlbVmRpW"
      },
      "source": [
        "Let's look at what we have so far:\n",
        "\n",
        "![image](https://i.imgur.com/md7inqG.png)"
      ]
    },
    {
      "cell_type": "markdown",
      "metadata": {
        "id": "uaXHpPeSnOWC"
      },
      "source": [
        "Next, we'll add our entrypoint. All our entrypoint does is indicate which node is called first."
      ]
    },
    {
      "cell_type": "code",
      "execution_count": 11,
      "metadata": {
        "colab": {
          "base_uri": "https://localhost:8080/"
        },
        "id": "YGCbaYqRnmiw",
        "outputId": "5351807c-2ac7-4316-a3a3-878abeacd114"
      },
      "outputs": [
        {
          "data": {
            "text/plain": [
              "<langgraph.graph.state.StateGraph at 0x11bdeae40>"
            ]
          },
          "execution_count": 11,
          "metadata": {},
          "output_type": "execute_result"
        }
      ],
      "source": [
        "uncompiled_graph.set_entry_point(\"agent\")"
      ]
    },
    {
      "cell_type": "markdown",
      "metadata": {
        "id": "BUsfGoSpoF9U"
      },
      "source": [
        "![image](https://i.imgur.com/wNixpJe.png)"
      ]
    },
    {
      "cell_type": "markdown",
      "metadata": {
        "id": "0Q_pQgHmoW0M"
      },
      "source": [
        "Now we want to build a \"conditional edge\" which will use the output state of a node to determine which path to follow.\n",
        "\n",
        "We can help conceptualize this by thinking of our conditional edge as a conditional in a flowchart!\n",
        "\n",
        "Notice how our function simply checks if there is a \"function_call\" kwarg present.\n",
        "\n",
        "Then we create an edge where the origin node is our agent node and our destination node is *either* the action node or the END (finish the graph).\n",
        "\n",
        "It's important to highlight that the dictionary passed in as the third parameter (the mapping) should be created with the possible outputs of our conditional function in mind. In this case `should_continue` outputs either `\"end\"` or `\"continue\"` which are subsequently mapped to the action node or the END node."
      ]
    },
    {
      "cell_type": "code",
      "execution_count": 12,
      "metadata": {
        "colab": {
          "base_uri": "https://localhost:8080/"
        },
        "id": "1BZgb81VQf9o",
        "outputId": "73a07c15-5f0b-40f2-b033-38b57d056dd8"
      },
      "outputs": [
        {
          "data": {
            "text/plain": [
              "<langgraph.graph.state.StateGraph at 0x11bdeae40>"
            ]
          },
          "execution_count": 12,
          "metadata": {},
          "output_type": "execute_result"
        }
      ],
      "source": [
        "def should_continue(state):\n",
        "  last_message = state[\"messages\"][-1]\n",
        "\n",
        "  if last_message.tool_calls:\n",
        "    return \"action\"\n",
        "\n",
        "  return END\n",
        "\n",
        "uncompiled_graph.add_conditional_edges(\n",
        "    \"agent\",\n",
        "    should_continue\n",
        ")"
      ]
    },
    {
      "cell_type": "markdown",
      "metadata": {
        "id": "-Cvhcf4jp0Ce"
      },
      "source": [
        "Let's visualize what this looks like.\n",
        "\n",
        "![image](https://i.imgur.com/8ZNwKI5.png)"
      ]
    },
    {
      "cell_type": "markdown",
      "metadata": {
        "id": "yKCjWJCkrJb9"
      },
      "source": [
        "Finally, we can add our last edge which will connect our action node to our agent node. This is because we *always* want our action node (which is used to call our tools) to return its output to our agent!"
      ]
    },
    {
      "cell_type": "code",
      "execution_count": 13,
      "metadata": {
        "colab": {
          "base_uri": "https://localhost:8080/"
        },
        "id": "UvcgbHf1rIXZ",
        "outputId": "45d4bdd6-d6bb-4a1d-bb79-cad43c130bf2"
      },
      "outputs": [
        {
          "data": {
            "text/plain": [
              "<langgraph.graph.state.StateGraph at 0x11bdeae40>"
            ]
          },
          "execution_count": 13,
          "metadata": {},
          "output_type": "execute_result"
        }
      ],
      "source": [
        "uncompiled_graph.add_edge(\"action\", \"agent\")"
      ]
    },
    {
      "cell_type": "markdown",
      "metadata": {
        "id": "EiWDwBQtrw7Z"
      },
      "source": [
        "Let's look at the final visualization.\n",
        "\n",
        "![image](https://i.imgur.com/NWO7usO.png)"
      ]
    },
    {
      "cell_type": "markdown",
      "metadata": {
        "id": "KYqDpErlsCsu"
      },
      "source": [
        "All that's left to do now is to compile our workflow - and we're off!"
      ]
    },
    {
      "cell_type": "code",
      "execution_count": 14,
      "metadata": {
        "id": "zt9-KS8DpzNx"
      },
      "outputs": [],
      "source": [
        "compiled_graph = uncompiled_graph.compile()"
      ]
    },
    {
      "cell_type": "markdown",
      "metadata": {
        "id": "xhNWIwBL1W4Q"
      },
      "source": [
        "#### ❓ Question #2:\n",
        "\n",
        "Is there any specific limit to how many times we can cycle?\n",
        "\n",
        "If not, how could we impose a limit to the number of cycles?\n",
        "\n",
        "#### Answer:\n",
        "\n",
        "LangGraph doesn't provide a built-in limit to the number of cycles, which allows the potential for infinite loops or unexpected costs from API calls. There are several ways to limit this. A conditional edge could check for the total number of messages, representing each time a node has been called, and edit or re-route based on a specific limit. In a stateful graph, more detailed control could be used through state variable counters, allowing tracking specific logic loops as well as a total. Alternatively, a total execution time limit could be set to exit the graph if it loops too much or stalls somewhere in the process."
      ]
    },
    {
      "cell_type": "markdown",
      "metadata": {
        "id": "VEYcTShCsPaa"
      },
      "source": [
        "## Using Our Graph\n",
        "\n",
        "Now that we've created and compiled our graph - we can call it *just as we'd call any other* `Runnable`!\n",
        "\n",
        "Let's try out a few examples to see how it fairs:"
      ]
    },
    {
      "cell_type": "code",
      "execution_count": 15,
      "metadata": {
        "colab": {
          "base_uri": "https://localhost:8080/"
        },
        "id": "Qn4n37PQRPII",
        "outputId": "5eeedfae-089d-496e-e71f-071939fa5832"
      },
      "outputs": [
        {
          "name": "stdout",
          "output_type": "stream",
          "text": [
            "Receiving update from node: 'agent'\n",
            "[AIMessage(content='', additional_kwargs={'tool_calls': [{'id': 'call_74jqelyf3h3jMeEgtFPNBmYa', 'function': {'arguments': '{\"query\":\"current captain of the Winnipeg Jets 2023\"}', 'name': 'tavily_search_results_json'}, 'type': 'function'}], 'refusal': None}, response_metadata={'token_usage': {'completion_tokens': 27, 'prompt_tokens': 162, 'total_tokens': 189, 'completion_tokens_details': {'accepted_prediction_tokens': 0, 'audio_tokens': 0, 'reasoning_tokens': 0, 'rejected_prediction_tokens': 0}, 'prompt_tokens_details': {'audio_tokens': 0, 'cached_tokens': 0}}, 'model_name': 'gpt-4o-2024-08-06', 'system_fingerprint': 'fp_50cad350e4', 'finish_reason': 'tool_calls', 'logprobs': None}, id='run-2f3f220c-14b9-46f2-bfcf-4b4671519222-0', tool_calls=[{'name': 'tavily_search_results_json', 'args': {'query': 'current captain of the Winnipeg Jets 2023'}, 'id': 'call_74jqelyf3h3jMeEgtFPNBmYa', 'type': 'tool_call'}], usage_metadata={'input_tokens': 162, 'output_tokens': 27, 'total_tokens': 189, 'input_token_details': {'audio': 0, 'cache_read': 0}, 'output_token_details': {'audio': 0, 'reasoning': 0}})]\n",
            "\n",
            "\n",
            "\n",
            "Receiving update from node: 'action'\n",
            "[ToolMessage(content='[{\"url\": \"https://thehockeynews.com/nhl/winnipeg-jets/news/jets-name-adam-lowry-as-team-captain\", \"content\": \"Jets Name Adam Lowry as Team Captain - The Hockey News Winnipeg Jets News, Analysis and More My Account Subscriptions Jets Name Adam Lowry as Team Captain The Winnipeg Jets will have a captain for the 2023-24 season. After going captain-less in 2022-23, the Winnipeg Jets unveiled Adam Lowry as the club\\'s new captain on Tuesday morning. Having stripped Wheeler of the \\'C\\' upon joining the Jets last season, head coach Rick Bowness rolled with three alternates in 2022-23, as Lowry, Josh Morrissey and Mark Scheifele each served in leadership roles with the club. Although it will be his first time serving as a team captain since his final year with the Swift Current Broncos in 2012-13, Lowry won\\'t need to look far for leadership examples.\"}, {\"url\": \"https://www.nytimes.com/athletic/4855976/2023/09/12/adam-lowry-jets-captain/\", \"content\": \"Jets name Adam Lowry as captain ahead of 2023-24 season: Why Winnipeg chose him - The Athletic Jets name Adam Lowry as captain ahead of 2023-24 season: Why Winnipeg chose him The team gave forward Adam Lowry the honor Tuesday, making him the third captain in franchise history since the Jets moved from Atlanta. Lowry did exactly that, stitched an “A” on his sweater for the first time in 2022-23, and is now captain of the Winnipeg Jets. Morrissey would have been a worthy choice as captain and is more of an impact player at his position than Lowry is. Lowry served as an assistant captain for the first time last season with Morrissey and Scheifele.\"}, {\"url\": \"https://en.wikipedia.org/wiki/List_of_current_NHL_captains_and_alternate_captains\", \"content\": \"The current longest-tenured captain in the league is Sidney Crosby of the Pittsburgh Penguins, who has served in that role since May 31, 2007. List of current NHL Captains ... Winnipeg Jets: Adam Lowry † 2023-24 [39] C: Alternate captains. Evgeni Malkin, the longest-tenured alternate captain\"}, {\"url\": \"https://globalnews.ca/news/9954570/winnipeg-jets-adam-lowry-captain/\", \"content\": \"Lowry, 30, becomes the third captain in Jets 2.0 history, following in the footsteps of Andrew Ladd, who announced his retirement from hockey on Sunday, and Blake Wheeler.\"}, {\"url\": \"https://winnipeg.citynews.ca/2023/09/12/winnipeg-jets-adam-lowry-captain/\", \"content\": \"Winnipeg Jets name Adam Lowry captain | CityNews Winnipeg Jets make Adam Lowry new captain, third to wear ‘C’ in Winnipeg history Winnipeg Jets centre Adam Lowry. Centre Adam Lowry was named the Winnipeg Jets new captain on Tuesday. Lowry is the third Jets captain since the team moved from Atlanta to Winnipeg in 2011. Watch CityNews Winnipeg, and get up-to-the-minute breaking-news alerts, traffic, weather and video from CityNews anywhere you are – across all Android and iOS devices. These cookies and data are essential for browsing our website and allowing services. These cookies and data enable the website to provide enhanced functionality and personalized content. These cookies may track data across websites for marketing and interest-based advertising to provide personalized content, offers, and advertisements.\"}]', name='tavily_search_results_json', id='45be045a-7283-441e-ac56-4e17b50ec74e', tool_call_id='call_74jqelyf3h3jMeEgtFPNBmYa', artifact={'query': 'current captain of the Winnipeg Jets 2023', 'follow_up_questions': None, 'answer': None, 'images': [], 'results': [{'title': 'Jets Name Adam Lowry as Team Captain - The Hockey News', 'url': 'https://thehockeynews.com/nhl/winnipeg-jets/news/jets-name-adam-lowry-as-team-captain', 'content': \"Jets Name Adam Lowry as Team Captain - The Hockey News Winnipeg Jets News, Analysis and More My Account Subscriptions Jets Name Adam Lowry as Team Captain The Winnipeg Jets will have a captain for the 2023-24 season. After going captain-less in 2022-23, the Winnipeg Jets unveiled Adam Lowry as the club's new captain on Tuesday morning. Having stripped Wheeler of the 'C' upon joining the Jets last season, head coach Rick Bowness rolled with three alternates in 2022-23, as Lowry, Josh Morrissey and Mark Scheifele each served in leadership roles with the club. Although it will be his first time serving as a team captain since his final year with the Swift Current Broncos in 2012-13, Lowry won't need to look far for leadership examples.\", 'score': 0.9227683, 'raw_content': None}, {'title': 'Jets name Adam Lowry as captain ahead of 2023-24 season: Why Winnipeg ...', 'url': 'https://www.nytimes.com/athletic/4855976/2023/09/12/adam-lowry-jets-captain/', 'content': 'Jets name Adam Lowry as captain ahead of 2023-24 season: Why Winnipeg chose him - The Athletic Jets name Adam Lowry as captain ahead of 2023-24 season: Why Winnipeg chose him The team gave forward Adam Lowry the honor Tuesday, making him the third captain in franchise history since the Jets moved from Atlanta. Lowry did exactly that, stitched an “A” on his sweater for the first time in 2022-23, and is now captain of the Winnipeg Jets. Morrissey would have been a worthy choice as captain and is more of an impact player at his position than Lowry is. Lowry served as an assistant captain for the first time last season with Morrissey and Scheifele.', 'score': 0.8991304, 'raw_content': None}, {'title': 'List of current NHL captains and alternate captains - Wikipedia', 'url': 'https://en.wikipedia.org/wiki/List_of_current_NHL_captains_and_alternate_captains', 'content': 'The current longest-tenured captain in the league is Sidney Crosby of the Pittsburgh Penguins, who has served in that role since May 31, 2007. List of current NHL Captains ... Winnipeg Jets: Adam Lowry † 2023-24 [39] C: Alternate captains. Evgeni Malkin, the longest-tenured alternate captain', 'score': 0.829285, 'raw_content': None}, {'title': 'Winnipeg Jets announce Adam Lowry as new captain', 'url': 'https://globalnews.ca/news/9954570/winnipeg-jets-adam-lowry-captain/', 'content': 'Lowry, 30, becomes the third captain in Jets 2.0 history, following in the footsteps of Andrew Ladd, who announced his retirement from hockey on Sunday, and Blake Wheeler.', 'score': 0.7769112, 'raw_content': None}, {'title': 'Winnipeg Jets name Adam Lowry captain | CityNews Winnipeg', 'url': 'https://winnipeg.citynews.ca/2023/09/12/winnipeg-jets-adam-lowry-captain/', 'content': 'Winnipeg Jets name Adam Lowry captain | CityNews Winnipeg Jets make Adam Lowry new captain, third to wear ‘C’ in Winnipeg history Winnipeg Jets centre Adam Lowry. Centre Adam Lowry was named the Winnipeg Jets new captain on Tuesday. Lowry is the third Jets captain since the team moved from Atlanta to Winnipeg in 2011. Watch CityNews Winnipeg, and get up-to-the-minute breaking-news alerts, traffic, weather and video from CityNews anywhere you are – across all Android and iOS devices. These cookies and data are essential for browsing our website and allowing services. These cookies and data enable the website to provide enhanced functionality and personalized content. These cookies may track data across websites for marketing and interest-based advertising to provide personalized content, offers, and advertisements.', 'score': 0.75723875, 'raw_content': None}], 'response_time': 1.51})]\n",
            "\n",
            "\n",
            "\n",
            "Receiving update from node: 'agent'\n",
            "[AIMessage(content='The current captain of the Winnipeg Jets is Adam Lowry.', additional_kwargs={'refusal': None}, response_metadata={'token_usage': {'completion_tokens': 14, 'prompt_tokens': 967, 'total_tokens': 981, 'completion_tokens_details': {'accepted_prediction_tokens': 0, 'audio_tokens': 0, 'reasoning_tokens': 0, 'rejected_prediction_tokens': 0}, 'prompt_tokens_details': {'audio_tokens': 0, 'cached_tokens': 0}}, 'model_name': 'gpt-4o-2024-08-06', 'system_fingerprint': 'fp_50cad350e4', 'finish_reason': 'stop', 'logprobs': None}, id='run-159475c2-42db-4b48-a5f6-67d8fa639438-0', usage_metadata={'input_tokens': 967, 'output_tokens': 14, 'total_tokens': 981, 'input_token_details': {'audio': 0, 'cache_read': 0}, 'output_token_details': {'audio': 0, 'reasoning': 0}})]\n",
            "\n",
            "\n",
            "\n"
          ]
        }
      ],
      "source": [
        "from langchain_core.messages import HumanMessage\n",
        "\n",
        "inputs = {\"messages\" : [HumanMessage(content=\"Who is the current captain of the Winnipeg Jets?\")]}\n",
        "\n",
        "async for chunk in compiled_graph.astream(inputs, stream_mode=\"updates\"):\n",
        "    for node, values in chunk.items():\n",
        "        print(f\"Receiving update from node: '{node}'\")\n",
        "        print(values[\"messages\"])\n",
        "        print(\"\\n\\n\")"
      ]
    },
    {
      "cell_type": "markdown",
      "metadata": {
        "id": "DBHnUtLSscRr"
      },
      "source": [
        "Let's look at what happened:\n",
        "\n",
        "1. Our state object was populated with our request\n",
        "2. The state object was passed into our entry point (agent node) and the agent node added an `AIMessage` to the state object and passed it along the conditional edge\n",
        "3. The conditional edge received the state object, found the \"tool_calls\" `additional_kwarg`, and sent the state object to the action node\n",
        "4. The action node added the response from the OpenAI function calling endpoint to the state object and passed it along the edge to the agent node\n",
        "5. The agent node added a response to the state object and passed it along the conditional edge\n",
        "6. The conditional edge received the state object, could not find the \"tool_calls\" `additional_kwarg` and passed the state object to END where we see it output in the cell above!\n",
        "\n",
        "Now let's look at an example that shows a multiple tool usage - all with the same flow!"
      ]
    },
    {
      "cell_type": "code",
      "execution_count": 16,
      "metadata": {
        "colab": {
          "base_uri": "https://localhost:8080/"
        },
        "id": "afv2BuEsV5JG",
        "outputId": "ff009536-d281-4a56-c126-9cd245352bfe"
      },
      "outputs": [
        {
          "name": "stdout",
          "output_type": "stream",
          "text": [
            "Receiving update from node: 'agent'\n",
            "[AIMessage(content='', additional_kwargs={'tool_calls': [{'id': 'call_O5ci5TOV8atE2PajNWdgVROz', 'function': {'arguments': '{\"query\":\"QLoRA\"}', 'name': 'arxiv'}, 'type': 'function'}], 'refusal': None}, response_metadata={'token_usage': {'completion_tokens': 17, 'prompt_tokens': 178, 'total_tokens': 195, 'completion_tokens_details': {'accepted_prediction_tokens': 0, 'audio_tokens': 0, 'reasoning_tokens': 0, 'rejected_prediction_tokens': 0}, 'prompt_tokens_details': {'audio_tokens': 0, 'cached_tokens': 0}}, 'model_name': 'gpt-4o-2024-08-06', 'system_fingerprint': 'fp_50cad350e4', 'finish_reason': 'tool_calls', 'logprobs': None}, id='run-ab9f8ffe-e593-4587-a2d7-676832fbf8de-0', tool_calls=[{'name': 'arxiv', 'args': {'query': 'QLoRA'}, 'id': 'call_O5ci5TOV8atE2PajNWdgVROz', 'type': 'tool_call'}], usage_metadata={'input_tokens': 178, 'output_tokens': 17, 'total_tokens': 195, 'input_token_details': {'audio': 0, 'cache_read': 0}, 'output_token_details': {'audio': 0, 'reasoning': 0}})]\n",
            "\n",
            "\n",
            "\n",
            "Receiving update from node: 'action'\n",
            "Tool Used: arxiv\n",
            "[ToolMessage(content='Published: 2023-05-23\\nTitle: QLoRA: Efficient Finetuning of Quantized LLMs\\nAuthors: Tim Dettmers, Artidoro Pagnoni, Ari Holtzman, Luke Zettlemoyer\\nSummary: We present QLoRA, an efficient finetuning approach that reduces memory usage\\nenough to finetune a 65B parameter model on a single 48GB GPU while preserving\\nfull 16-bit finetuning task performance. QLoRA backpropagates gradients through\\na frozen, 4-bit quantized pretrained language model into Low Rank\\nAdapters~(LoRA). Our best model family, which we name Guanaco, outperforms all\\nprevious openly released models on the Vicuna benchmark, reaching 99.3% of the\\nperformance level of ChatGPT while only requiring 24 hours of finetuning on a\\nsingle GPU. QLoRA introduces a number of innovations to save memory without\\nsacrificing performance: (a) 4-bit NormalFloat (NF4), a new data type that is\\ninformation theoretically optimal for normally distributed weights (b) double\\nquantization to reduce the average memory footprint by quantizing the\\nquantization constants, and (c) paged optimziers to manage memory spikes. We\\nuse QLoRA to finetune more than 1,000 models, providing a detailed analysis of\\ninstruction following and chatbot performance across 8 instruction datasets,\\nmultiple model types (LLaMA, T5), and model scales that would be infeasible to\\nrun with regular finetuning (e.g. 33B and 65B parameter models). Our results\\nshow that QLoRA finetuning on a small high-quality dataset leads to\\nstate-of-the-art results, even when using smaller models than the previous\\nSoTA. We provide a detailed analysis of chatbot performance based on both human\\nand GPT-4 evaluations showing that GPT-4 evaluations are a cheap and reasonable\\nalternative to human evaluation. Furthermore, we find that current chatbot\\nbenchmarks are not trustworthy to accurately evaluate the performance levels of\\nchatbots. A lemon-picked analysis demonstrates where Guanaco fails compared to\\nChatGPT. We release all of our models and code, including CUDA kernels for\\n4-bit training.\\n\\nPublished: 2024-05-27\\nTitle: Accurate LoRA-Finetuning Quantization of LLMs via Information Retention\\nAuthors: Haotong Qin, Xudong Ma, Xingyu Zheng, Xiaoyang Li, Yang Zhang, Shouda Liu, Jie Luo, Xianglong Liu, Michele Magno\\nSummary: The LoRA-finetuning quantization of LLMs has been extensively studied to\\nobtain accurate yet compact LLMs for deployment on resource-constrained\\nhardware. However, existing methods cause the quantized LLM to severely degrade\\nand even fail to benefit from the finetuning of LoRA. This paper proposes a\\nnovel IR-QLoRA for pushing quantized LLMs with LoRA to be highly accurate\\nthrough information retention. The proposed IR-QLoRA mainly relies on two\\ntechnologies derived from the perspective of unified information: (1)\\nstatistics-based Information Calibration Quantization allows the quantized\\nparameters of LLM to retain original information accurately; (2)\\nfinetuning-based Information Elastic Connection makes LoRA utilizes elastic\\nrepresentation transformation with diverse information. Comprehensive\\nexperiments show that IR-QLoRA can significantly improve accuracy across LLaMA\\nand LLaMA2 families under 2-4 bit-widths, e.g., 4- bit LLaMA-7B achieves 1.4%\\nimprovement on MMLU compared with the state-of-the-art methods. The significant\\nperformance gain requires only a tiny 0.31% additional time consumption,\\nrevealing the satisfactory efficiency of our IR-QLoRA. We highlight that\\nIR-QLoRA enjoys excellent versatility, compatible with various frameworks\\n(e.g., NormalFloat and Integer quantization) and brings general accuracy gains.\\nThe code is available at https://github.com/htqin/ir-qlora.\\n\\nPublished: 2024-06-12\\nTitle: Exploring Fact Memorization and Style Imitation in LLMs Using QLoRA: An Experimental Study and Quality Assessment Methods\\nAuthors: Eugene Vyborov, Oleksiy Osypenko, Serge Sotnyk\\nSummary: There are various methods for adapting LLMs to different domains. The most\\ncommon methods are prompting, finetuning, and RAG. In this w', name='arxiv', id='70d2a042-b297-40b2-852f-f1df3795a3a2', tool_call_id='call_O5ci5TOV8atE2PajNWdgVROz')]\n",
            "\n",
            "\n",
            "\n",
            "Receiving update from node: 'agent'\n",
            "[AIMessage(content='', additional_kwargs={'tool_calls': [{'id': 'call_8Ays4755s2qHab2jfm6mlJE8', 'function': {'arguments': '{\"query\": \"Tim Dettmers latest Tweet\"}', 'name': 'tavily_search_results_json'}, 'type': 'function'}, {'id': 'call_6klYoeO32CRU7GBWnKkm0SDH', 'function': {'arguments': '{\"query\": \"Artidoro Pagnoni latest Tweet\"}', 'name': 'tavily_search_results_json'}, 'type': 'function'}, {'id': 'call_dKAz2urgSbbKfnvgIXBG9LoQ', 'function': {'arguments': '{\"query\": \"Ari Holtzman latest Tweet\"}', 'name': 'tavily_search_results_json'}, 'type': 'function'}, {'id': 'call_sYVYBDZalZi6SQGeRpK87mUP', 'function': {'arguments': '{\"query\": \"Luke Zettlemoyer latest Tweet\"}', 'name': 'tavily_search_results_json'}, 'type': 'function'}], 'refusal': None}, response_metadata={'token_usage': {'completion_tokens': 113, 'prompt_tokens': 1157, 'total_tokens': 1270, 'completion_tokens_details': {'accepted_prediction_tokens': 0, 'audio_tokens': 0, 'reasoning_tokens': 0, 'rejected_prediction_tokens': 0}, 'prompt_tokens_details': {'audio_tokens': 0, 'cached_tokens': 0}}, 'model_name': 'gpt-4o-2024-08-06', 'system_fingerprint': 'fp_50cad350e4', 'finish_reason': 'tool_calls', 'logprobs': None}, id='run-2a3bbf26-06fc-42be-a8b8-7a72a03abf00-0', tool_calls=[{'name': 'tavily_search_results_json', 'args': {'query': 'Tim Dettmers latest Tweet'}, 'id': 'call_8Ays4755s2qHab2jfm6mlJE8', 'type': 'tool_call'}, {'name': 'tavily_search_results_json', 'args': {'query': 'Artidoro Pagnoni latest Tweet'}, 'id': 'call_6klYoeO32CRU7GBWnKkm0SDH', 'type': 'tool_call'}, {'name': 'tavily_search_results_json', 'args': {'query': 'Ari Holtzman latest Tweet'}, 'id': 'call_dKAz2urgSbbKfnvgIXBG9LoQ', 'type': 'tool_call'}, {'name': 'tavily_search_results_json', 'args': {'query': 'Luke Zettlemoyer latest Tweet'}, 'id': 'call_sYVYBDZalZi6SQGeRpK87mUP', 'type': 'tool_call'}], usage_metadata={'input_tokens': 1157, 'output_tokens': 113, 'total_tokens': 1270, 'input_token_details': {'audio': 0, 'cache_read': 0}, 'output_token_details': {'audio': 0, 'reasoning': 0}})]\n",
            "\n",
            "\n",
            "\n",
            "Receiving update from node: 'action'\n",
            "Tool Used: tavily_search_results_json\n",
            "[ToolMessage(content='[{\"url\": \"https://threadreaderapp.com/user/Tim_Dettmers\", \"content\": \"Unroll Thread You can paste full URL like: https://x.com/threadreaderapp/status/1644127596119195649 https://twitter.com/Tim_Dettmers/status/1661379354507476994 Colab: colab.research.google.com/drive/17XEqL1J…  Want to see how good Guanaco 65B is? Our work on loss spikes and stable 8-bit CLIP training is the largest Int8 training to date (1B). We release LLM.int8(), the first 8-bit inference method that saves 2x memory and does not degrade performance for 175B models by exploiting emergent properties. Emergence: timdettmers.com/2022/08/17/llm…  LLM.int8() works by using: (1) the high-precision vectors-wise quantization technique and (2) mixed precision decomposition. We release the public beta for bnb-int8🟪 for all @huggingface 🤗models, which allows for Int8 inference without performance degradation up to scales of 176B params 📈. Video:  8-bit optimizers are mostly useful to finetune large models that did not fit into memory before.\"}, {\"url\": \"https://twitter.com/Tim_Dettmers/highlights\", \"content\": \"After 7 months on the job market, I am happy to announce: - I joined @allen_ai - Professor at @CarnegieMellon from Fall 2025 - New bitsandbytes maintainer\"}, {\"url\": \"https://threadreaderapp.com/thread/1666076553665744896.html\", \"content\": \"Unroll Thread Needs to be the full URL like: https://twitter.com/threadreaderapp/status/1644127596119195649 1. Load a Guanaco in 16-bit for fast inference - matching 16-bit performance across all scales and models It is memory efficient, fast, and highly robust, making it easy to replicate 16-bit fine-tuning performance for large LLMs on a consumer hardware setup Our work on loss spikes and stable 8-bit CLIP training is the largest Int8 training to date (1B). We release LLM.int8(), the first 8-bit inference method that saves 2x memory and does not degrade performance for 175B models by exploiting emergent properties. We release the public beta for bnb-int8🟪 for all @huggingface 🤗models, which allows for Int8 inference without performance degradation up to scales of 176B params 📈.\"}, {\"url\": \"https://twitter.com/tim_dettmers\", \"content\": \"What?! DeepSeek-R1-Lite-Preview \\\\\"o1-preview-level performance on AIME & MATH benchmarks\\\\\" What is happening this week? Didnt see that coming, holy moly. x.com/\"}, {\"url\": \"https://x.com/tim_dettmers?lang=en\", \"content\": \"New post re: Devin (the AI SWE). We couldn\\'t find many reviews of people using it for real tasks, so we went MKBHD mode and put Devin through its paces. We\"}]', name='tavily_search_results_json', id='327103ae-d5db-44f0-8cae-119492240513', tool_call_id='call_8Ays4755s2qHab2jfm6mlJE8', artifact={'query': 'Tim Dettmers latest Tweet', 'follow_up_questions': None, 'answer': None, 'images': [], 'results': [{'url': 'https://threadreaderapp.com/user/Tim_Dettmers', 'title': \"Tim Dettmers's Threads\", 'content': 'Unroll Thread You can paste full URL like: https://x.com/threadreaderapp/status/1644127596119195649 https://twitter.com/Tim_Dettmers/status/1661379354507476994 Colab: colab.research.google.com/drive/17XEqL1J…  Want to see how good Guanaco 65B is? Our work on loss spikes and stable 8-bit CLIP training is the largest Int8 training to date (1B). We release LLM.int8(), the first 8-bit inference method that saves 2x memory and does not degrade performance for 175B models by exploiting emergent properties. Emergence: timdettmers.com/2022/08/17/llm…  LLM.int8() works by using: (1) the high-precision vectors-wise quantization technique and (2) mixed precision decomposition. We release the public beta for bnb-int8🟪 for all @huggingface 🤗models, which allows for Int8 inference without performance degradation up to scales of 176B params 📈. Video:  8-bit optimizers are mostly useful to finetune large models that did not fit into memory before.', 'score': 0.7300017, 'raw_content': None}, {'url': 'https://twitter.com/Tim_Dettmers/highlights', 'title': 'Highlights by Tim Dettmers (@Tim_Dettmers) / X', 'content': 'After 7 months on the job market, I am happy to announce: - I joined @allen_ai - Professor at @CarnegieMellon from Fall 2025 - New bitsandbytes maintainer', 'score': 0.6765563, 'raw_content': None}, {'url': 'https://threadreaderapp.com/thread/1666076553665744896.html', 'title': 'Thread by @Tim_Dettmers on Thread Reader App', 'content': 'Unroll Thread Needs to be the full URL like: https://twitter.com/threadreaderapp/status/1644127596119195649 1. Load a Guanaco in 16-bit for fast inference - matching 16-bit performance across all scales and models It is memory efficient, fast, and highly robust, making it easy to replicate 16-bit fine-tuning performance for large LLMs on a consumer hardware setup Our work on loss spikes and stable 8-bit CLIP training is the largest Int8 training to date (1B). We release LLM.int8(), the first 8-bit inference method that saves 2x memory and does not degrade performance for 175B models by exploiting emergent properties. We release the public beta for bnb-int8🟪 for all @huggingface 🤗models, which allows for Int8 inference without performance degradation up to scales of 176B params 📈.', 'score': 0.6304352, 'raw_content': None}, {'url': 'https://twitter.com/tim_dettmers', 'title': 'Tim Dettmers (@Tim_Dettmers) / X', 'content': 'What?! DeepSeek-R1-Lite-Preview \"o1-preview-level performance on AIME & MATH benchmarks\" What is happening this week? Didnt see that coming, holy moly. x.com/', 'score': 0.6180666, 'raw_content': None}, {'url': 'https://x.com/tim_dettmers?lang=en', 'title': 'Tim Dettmers (@Tim_Dettmers) / X', 'content': \"New post re: Devin (the AI SWE). We couldn't find many reviews of people using it for real tasks, so we went MKBHD mode and put Devin through its paces. We\", 'score': 0.5948579, 'raw_content': None}], 'response_time': 2.85}), ToolMessage(content='[{\"url\": \"https://x.com/ansongni?lang=en\", \"content\": \"Artidoro Pagnoni · @ArtidoroPagnoni. ·. Dec 13, 2024. Introducing the Byte Latent Transformer (BLT) – An LLM architecture that scales better\"}, {\"url\": \"https://twitter.com/ArtidoroPagnoni/highlights\", \"content\": \"Artidoro Pagnoni\\'s Highlights ... Introducing the Byte Latent Transformer (BLT) – An LLM architecture that scales better than Llama 3 using byte-patches instead\"}, {\"url\": \"https://x.com/artidoropagnoni?lang=en\", \"content\": \"Today we\\'re announcing the recipients of our LLM Evaluation research grants. These four projects will each receive $200K in grant funding from Meta to further\"}, {\"url\": \"https://twitter.com/apagnonipagnoni?lang=ms\", \"content\": \"Don\\'t let climate change deniers derail progress in the global effort to #ActOnClimate: http://ofa.bo/e5FW. Imej. 204. 565. 1K. Artidoro Pagnoni menyiarkan\"}, {\"url\": \"https://www.lti.cs.cmu.edu/people/students/pagnoni-artidoro.html\", \"content\": \"Artidoro Pagnoni - Language Technologies Institute - School of Computer Science - Carnegie Mellon University School of Computer Science \\xa0›\\xa0 Language Technologies Institute \\xa0›\\xa0 People \\xa0›\\xa0 Students \\xa0›\\xa0 Artidoro Pagnoni Master of Language Technologies  www.cmu.edu Leaving the LTI PhD in LTI Dual-Degree PhD in LTI (Portugal Partnership) Master of Language Technologies Master of Computational Data Science LTI Ph.D. Dissertations LTI Ph.D. Dissertations LTI Ph.D. Dissertations LTI Ph.D. Dissertations: 2001-1997 LTI Ph.D. Dissertations: 2006-2002 LTI Ph.D. Dissertations: 2011-2007 LTI Ph.D. Dissertations: 2016-2012 LTI Ph.D. Dissertations: 2021-2017 News and Events Events About LTI LTI Open House 2024 LTI Colloquium Repository of LTI Intranet Links, Forms and Resources LTI Open House 2025 Visit LTI LTI Faculty Intranet LTI Student Resources LTI Student Travel\"}]', name='tavily_search_results_json', id='1d5c697a-bf29-407d-8279-dfea9addc8e9', tool_call_id='call_6klYoeO32CRU7GBWnKkm0SDH', artifact={'query': 'Artidoro Pagnoni latest Tweet', 'follow_up_questions': None, 'answer': None, 'images': [], 'results': [{'url': 'https://x.com/ansongni?lang=en', 'title': 'Ansong Ni (@AnsongNi) / X', 'content': 'Artidoro Pagnoni · @ArtidoroPagnoni. ·. Dec 13, 2024. Introducing the Byte Latent Transformer (BLT) – An LLM architecture that scales better', 'score': 0.77137923, 'raw_content': None}, {'url': 'https://twitter.com/ArtidoroPagnoni/highlights', 'title': 'Highlights by Artidoro Pagnoni (@ArtidoroPagnoni) / X', 'content': \"Artidoro Pagnoni's Highlights ... Introducing the Byte Latent Transformer (BLT) – An LLM architecture that scales better than Llama 3 using byte-patches instead\", 'score': 0.6651719, 'raw_content': None}, {'url': 'https://x.com/artidoropagnoni?lang=en', 'title': 'Artidoro Pagnoni (@ArtidoroPagnoni) / X', 'content': \"Today we're announcing the recipients of our LLM Evaluation research grants. These four projects will each receive $200K in grant funding from Meta to further\", 'score': 0.65914243, 'raw_content': None}, {'url': 'https://twitter.com/apagnonipagnoni?lang=ms', 'title': 'Artidoro Pagnoni (@ApagnoniPagnoni) / X', 'content': \"Don't let climate change deniers derail progress in the global effort to #ActOnClimate: http://ofa.bo/e5FW. Imej. 204. 565. 1K. Artidoro Pagnoni menyiarkan\", 'score': 0.6279746, 'raw_content': None}, {'url': 'https://www.lti.cs.cmu.edu/people/students/pagnoni-artidoro.html', 'title': 'Artidoro Pagnoni - Language Technologies Institute - School of ...', 'content': 'Artidoro Pagnoni - Language Technologies Institute - School of Computer Science - Carnegie Mellon University School of Computer Science \\xa0›\\xa0 Language Technologies Institute \\xa0›\\xa0 People \\xa0›\\xa0 Students \\xa0›\\xa0 Artidoro Pagnoni Master of Language Technologies  www.cmu.edu Leaving the LTI PhD in LTI Dual-Degree PhD in LTI (Portugal Partnership) Master of Language Technologies Master of Computational Data Science LTI Ph.D. Dissertations LTI Ph.D. Dissertations LTI Ph.D. Dissertations LTI Ph.D. Dissertations: 2001-1997 LTI Ph.D. Dissertations: 2006-2002 LTI Ph.D. Dissertations: 2011-2007 LTI Ph.D. Dissertations: 2016-2012 LTI Ph.D. Dissertations: 2021-2017 News and Events Events About LTI LTI Open House 2024 LTI Colloquium Repository of LTI Intranet Links, Forms and Resources LTI Open House 2025 Visit LTI LTI Faculty Intranet LTI Student Resources LTI Student Travel', 'score': 0.4199102, 'raw_content': None}], 'response_time': 2.97}), ToolMessage(content='[{\"url\": \"https://x.com/universeinanegg?lang=en\", \"content\": \"·. Jan 26. New goal: publish enough in every genre I care to so that I can ask any new LLM released to help me write \\'in the style of Ari Holtzman\\'. 1.\"}, {\"url\": \"https://twitter.com/universeinanegg/status/1821229923605873003\", \"content\": \"Some sad news: My father died unexpectedly a bit over a week ago. We were close. Apologies for my delayed response times,\"}, {\"url\": \"https://twitter.com/universeinanegg/status/1786601100751343866\", \"content\": \"I\\'m gonna tap this sign every time a new pretraining corpus gets released.\"}, {\"url\": \"https://ci.cs.uchicago.edu/\", \"content\": \"Among the most interesting activities carried out by humans is the act of communication, cooperation, and collaboration with one another. The UChicago Communication & Intelligence (C&I) group is dedicated to understanding these mysterious new machines and their behaviors and to studying new types of interactions that can facilitate humans and AI models to communicate, cooperate, and collaborate with each other. Currently, we’re a team of three human PIs—Ari Holtzman, Mina Lee, and Chenhao Tan. We are passionate about topics such as Understanding the landscape of human-human, human-machine, and machine-machine communication Characterizing, theorizing, and building AI models that generate human-interpretable media such as texts and images Studying the effect, potential, and hazards of information ecosystems consisting of humans and AI models.\"}, {\"url\": \"https://x.com/universeinanegg/status/1874683146928894263\", \"content\": \"Ari Holtzman · @universeinanegg. Felix\\'s papers, little blog posts, and tweets were a window into someone actually, actually try to make sense\"}]', name='tavily_search_results_json', id='7fd026fe-86a6-445a-adb0-b97115a1f830', tool_call_id='call_dKAz2urgSbbKfnvgIXBG9LoQ', artifact={'query': 'Ari Holtzman latest Tweet', 'follow_up_questions': None, 'answer': None, 'images': [], 'results': [{'url': 'https://x.com/universeinanegg?lang=en', 'title': 'Ari Holtzman (@universeinanegg) / X', 'content': \"·. Jan 26. New goal: publish enough in every genre I care to so that I can ask any new LLM released to help me write 'in the style of Ari Holtzman'. 1.\", 'score': 0.71687365, 'raw_content': None}, {'url': 'https://twitter.com/universeinanegg/status/1821229923605873003', 'title': 'Ari Holtzman on X: \"Some sad news: My father died unexpectedly a ...', 'content': 'Some sad news: My father died unexpectedly a bit over a week ago. We were close. Apologies for my delayed response times,', 'score': 0.4864541, 'raw_content': None}, {'url': 'https://twitter.com/universeinanegg/status/1786601100751343866', 'title': 'Ari Holtzman on X: \"I\\'m gonna tap this sign every time a new ...', 'content': \"I'm gonna tap this sign every time a new pretraining corpus gets released.\", 'score': 0.4434805, 'raw_content': None}, {'url': 'https://ci.cs.uchicago.edu/', 'title': 'UChicago C&I', 'content': 'Among the most interesting activities carried out by humans is the act of communication, cooperation, and collaboration with one another. The UChicago Communication & Intelligence (C&I) group is dedicated to understanding these mysterious new machines and their behaviors and to studying new types of interactions that can facilitate humans and AI models to communicate, cooperate, and collaborate with each other. Currently, we’re a team of three human PIs—Ari Holtzman, Mina Lee, and Chenhao Tan. We are passionate about topics such as Understanding the landscape of human-human, human-machine, and machine-machine communication Characterizing, theorizing, and building AI models that generate human-interpretable media such as texts and images Studying the effect, potential, and hazards of information ecosystems consisting of humans and AI models.', 'score': 0.33509022, 'raw_content': None}, {'url': 'https://x.com/universeinanegg/status/1874683146928894263', 'title': 'Ari Holtzman - X', 'content': \"Ari Holtzman · @universeinanegg. Felix's papers, little blog posts, and tweets were a window into someone actually, actually try to make sense\", 'score': 0.3304069, 'raw_content': None}], 'response_time': 3.17}), ToolMessage(content='[{\"url\": \"https://x.com/lukezettlemoyer?lang=en\", \"content\": \"Excited to share that the 4th Knowledge-Augmented NLP workshop will be held at NAACL-25. Stay tuned! Quote.\"}, {\"url\": \"https://twitter.com/lukezettlemoyer/status/1003662931479941120\", \"content\": \"Come see Julian Michael presenting his work in question answer meaning representations, now at @NAACLHLT ! Image. 3:41 PM · Jun 4, 2018.\"}, {\"url\": \"https://www.linkedin.com/posts/leylinepro_luke-zettlemoyer-activity-7244364962268119040-jSxU\", \"content\": \"Adam is currently a Postdoctoral Research Scientist at Columbia University in the Causal Artificial Intelligence Lab. Learn about his path through open source to scikit-learn as well as his current research: https://lnkd.in/e_Q7DXiz AI Chatbots Have Thoroughly Infiltrated Scientific Publishing One percent of scientific articles published in 2023 showed signs of generative AI’s potential involvement, according to a recent analysis BY CHRIS STOKEL-WALKE Amanda Montañez; Source: Andrew Gray Researchers are misusing ChatGPT and other artificial intelligence chatbots to produce scientific literature. . UTCS, UT Computer Science, UT Austin, Computer Science Research, Machine Learning Research, AI Research, Alumni, Graduate Program\"}, {\"url\": \"https://twimlai.com/podcast/twimlai/guest/luke-zettlemoyer/\", \"content\": \"Luke Zettlemoyer | The TWIML AI Podcast Skip to content Podcast Podcast Luke Zettlemoyer Professor, Research Manager University of Washington, Meta Connect with Luke Luke Zettlemoyer is a Professor in the Paul G. Allen School of Computer Science & Engineering at the University of Washington, and a Research Manager at Meta. Luke received his PhD from MIT and was a postdoc at the University of Edinburgh. Podcast Episodes © 2025 CloudPulse Strategies All rights reserved About TWIML Our Policies Privacy Policy Media Policy Popular Content Podcast Episodes Podcast Series Podcast Topics About TWIML Our Policies Privacy Policy Media Policy Popular Content Podcast Episodes Podcast Series Podcast Topics © 2021 CloudPulse Strategies / All rights reserved\"}, {\"url\": \"https://linguistics.washington.edu/people/luke-zettlemoyer\", \"content\": \"Luke Zettlemoyer | Department of Linguistics | University of Washington Main menu Department of Linguistics Graduate Students Graduate Students Alumni News Programs & Courses Programs & Courses B.A. in Linguistics Minor in Linguistics Linguistic Society at UW M.S. in Computational Linguistics Ph.D. in Linguistics Courses Courses Research Resources UW Working Papers in Linguistics Labs & Groups Labs & Groups Computational Linguistics Linguistics Fieldwork Lab Linguistic Bias Working Group Linguistics Society at the UW Treehouse Meetings (Computational Linguistics) Lab & Group Events Share News with Us Resources Resources Financial Resources and Approvals UW Resources Non-UW Resources For Faculty & Staff For Faculty & Staff Conference Room Calendar Resources & Related Links Computer Science and Engineering Support Linguistics Department of Linguistics\"}]', name='tavily_search_results_json', id='1be24261-857f-4c94-87d9-0342eeef67c9', tool_call_id='call_sYVYBDZalZi6SQGeRpK87mUP', artifact={'query': 'Luke Zettlemoyer latest Tweet', 'follow_up_questions': None, 'answer': None, 'images': [], 'results': [{'url': 'https://x.com/lukezettlemoyer?lang=en', 'title': 'Luke Zettlemoyer (@LukeZettlemoyer) / X', 'content': 'Excited to share that the 4th Knowledge-Augmented NLP workshop will be held at NAACL-25. Stay tuned! Quote.', 'score': 0.66777676, 'raw_content': None}, {'url': 'https://twitter.com/lukezettlemoyer/status/1003662931479941120', 'title': 'Luke Zettlemoyer on X: \"Come see Julian Michael presenting his ...', 'content': 'Come see Julian Michael presenting his work in question answer meaning representations, now at @NAACLHLT ! Image. 3:41 PM · Jun 4, 2018.', 'score': 0.6205532, 'raw_content': None}, {'url': 'https://www.linkedin.com/posts/leylinepro_luke-zettlemoyer-activity-7244364962268119040-jSxU', 'title': 'LeyLine on LinkedIn: Luke Zettlemoyer', 'content': 'Adam is currently a Postdoctoral Research Scientist at Columbia University in the Causal Artificial Intelligence Lab. Learn about his path through open source to scikit-learn as well as his current research: https://lnkd.in/e_Q7DXiz AI Chatbots Have Thoroughly Infiltrated Scientific Publishing One percent of scientific articles published in 2023 showed signs of generative AI’s potential involvement, according to a recent analysis BY CHRIS STOKEL-WALKE Amanda Montañez; Source: Andrew Gray Researchers are misusing ChatGPT and other artificial intelligence chatbots to produce scientific literature. . UTCS, UT Computer Science, UT Austin, Computer Science Research, Machine Learning Research, AI Research, Alumni, Graduate Program', 'score': 0.39131343, 'raw_content': None}, {'url': 'https://twimlai.com/podcast/twimlai/guest/luke-zettlemoyer/', 'title': 'Luke Zettlemoyer | The TWIML AI Podcast', 'content': 'Luke Zettlemoyer | The TWIML AI Podcast Skip to content Podcast Podcast Luke Zettlemoyer Professor, Research Manager University of Washington, Meta Connect with Luke Luke Zettlemoyer is a Professor in the Paul G. Allen School of Computer Science & Engineering at the University of Washington, and a Research Manager at Meta. Luke received his PhD from MIT and was a postdoc at the University of Edinburgh. Podcast Episodes © 2025 CloudPulse Strategies All rights reserved About TWIML Our Policies Privacy Policy Media Policy Popular Content Podcast Episodes Podcast Series Podcast Topics About TWIML Our Policies Privacy Policy Media Policy Popular Content Podcast Episodes Podcast Series Podcast Topics © 2021 CloudPulse Strategies / All rights reserved', 'score': 0.24547864, 'raw_content': None}, {'url': 'https://linguistics.washington.edu/people/luke-zettlemoyer', 'title': 'Luke Zettlemoyer - UW Linguistics Department', 'content': 'Luke Zettlemoyer | Department of Linguistics | University of Washington Main menu Department of Linguistics Graduate Students Graduate Students Alumni News Programs & Courses Programs & Courses B.A. in Linguistics Minor in Linguistics Linguistic Society at UW M.S. in Computational Linguistics Ph.D. in Linguistics Courses Courses Research Resources UW Working Papers in Linguistics Labs & Groups Labs & Groups Computational Linguistics Linguistics Fieldwork Lab Linguistic Bias Working Group Linguistics Society at the UW Treehouse Meetings (Computational Linguistics) Lab & Group Events Share News with Us Resources Resources Financial Resources and Approvals UW Resources Non-UW Resources For Faculty & Staff For Faculty & Staff Conference Room Calendar Resources & Related Links Computer Science and Engineering Support Linguistics Department of Linguistics', 'score': 0.14541878, 'raw_content': None}], 'response_time': 2.72})]\n",
            "\n",
            "\n",
            "\n",
            "Receiving update from node: 'agent'\n",
            "[AIMessage(content='Here are the latest tweets or related content from the authors of the QLoRA paper:\\n\\n1. **Tim Dettmers**:\\n   - [Tim Dettmers on Twitter](https://twitter.com/tim_dettmers): \"What?! DeepSeek-R1-Lite-Preview \\'o1-preview-level performance on AIME & MATH benchmarks\\' What is happening this week? Didn\\'t see that coming, holy moly.\"\\n   - [Tim Dettmers Highlights](https://twitter.com/Tim_Dettmers/highlights): \"After 7 months on the job market, I am happy to announce: - I joined @allen_ai - Professor at @CarnegieMellon from Fall 2025 - New bitsandbytes maintainer.\"\\n\\n2. **Artidoro Pagnoni**:\\n   - [Artidoro Pagnoni on Twitter](https://x.com/ansongni?lang=en): \"Introducing the Byte Latent Transformer (BLT) – An LLM architecture that scales better.\"\\n   - [Artidoro Pagnoni Highlights](https://twitter.com/ArtidoroPagnoni/highlights): \"Introducing the Byte Latent Transformer (BLT) – An LLM architecture that scales better than Llama 3 using byte-patches instead.\"\\n\\n3. **Ari Holtzman**:\\n   - [Ari Holtzman on Twitter](https://x.com/universeinanegg?lang=en): \"New goal: publish enough in every genre I care to so that I can ask any new LLM released to help me write \\'in the style of Ari Holtzman\\'.\"\\n   - [Ari Holtzman on Twitter](https://twitter.com/universeinanegg/status/1821229923605873003): \"Some sad news: My father died unexpectedly a bit over a week ago. We were close. Apologies for my delayed response times.\"\\n\\n4. **Luke Zettlemoyer**:\\n   - [Luke Zettlemoyer on Twitter](https://x.com/lukezettlemoyer?lang=en): \"Excited to share that the 4th Knowledge-Augmented NLP workshop will be held at NAACL-25. Stay tuned!\"\\n   - [Luke Zettlemoyer on LinkedIn](https://www.linkedin.com/posts/leylinepro_luke-zettlemoyer-activity-7244364962268119040-jSxU): \"Adam is currently a Postdoctoral Research Scientist at Columbia University in the Causal Artificial Intelligence Lab.\"\\n\\nThese links provide insights into their recent activities and announcements.', additional_kwargs={'refusal': None}, response_metadata={'token_usage': {'completion_tokens': 528, 'prompt_tokens': 3638, 'total_tokens': 4166, 'completion_tokens_details': {'accepted_prediction_tokens': 0, 'audio_tokens': 0, 'reasoning_tokens': 0, 'rejected_prediction_tokens': 0}, 'prompt_tokens_details': {'audio_tokens': 0, 'cached_tokens': 1152}}, 'model_name': 'gpt-4o-2024-08-06', 'system_fingerprint': 'fp_50cad350e4', 'finish_reason': 'stop', 'logprobs': None}, id='run-c0646fc7-bba7-4194-a68b-4b0326957d98-0', usage_metadata={'input_tokens': 3638, 'output_tokens': 528, 'total_tokens': 4166, 'input_token_details': {'audio': 0, 'cache_read': 1152}, 'output_token_details': {'audio': 0, 'reasoning': 0}})]\n",
            "\n",
            "\n",
            "\n"
          ]
        }
      ],
      "source": [
        "inputs = {\"messages\" : [HumanMessage(content=\"Search Arxiv for the QLoRA paper, then search each of the authors to find out their latest Tweet using Tavily!\")]}\n",
        "\n",
        "async for chunk in compiled_graph.astream(inputs, stream_mode=\"updates\"):\n",
        "    for node, values in chunk.items():\n",
        "        print(f\"Receiving update from node: '{node}'\")\n",
        "        if node == \"action\":\n",
        "          print(f\"Tool Used: {values['messages'][0].name}\")\n",
        "        print(values[\"messages\"])\n",
        "\n",
        "        print(\"\\n\\n\")"
      ]
    },
    {
      "cell_type": "markdown",
      "metadata": {
        "id": "CXzDlZVz1Hnf"
      },
      "source": [
        "####🏗️ Activity #2:\n",
        "\n",
        "Please write out the steps the agent took to arrive at the correct answer.\n",
        "\n",
        "1. It read the instructions, and told the action node to search for the GLoRA paper using arxiv.\n",
        "2. The action node found and returned the paper.\n",
        "3. Finding the paper, the agent reads the authors, and provides a list of calls to tavily search, one for each author's current tweet.\n",
        "4. The action node performs the tool calls and returns a list of the correct posts.\n",
        "5. The agent node returns the tweets."
      ]
    },
    {
      "cell_type": "markdown",
      "metadata": {
        "id": "v7c8-Uyarh1v"
      },
      "source": [
        "## Part 1: LangSmith Evaluator"
      ]
    },
    {
      "cell_type": "markdown",
      "metadata": {
        "id": "pV3XeFOT1Sar"
      },
      "source": [
        "### Pre-processing for LangSmith"
      ]
    },
    {
      "cell_type": "markdown",
      "metadata": {
        "id": "wruQCuzewUuO"
      },
      "source": [
        "To do a little bit more preprocessing, let's wrap our LangGraph agent in a simple chain."
      ]
    },
    {
      "cell_type": "code",
      "execution_count": 17,
      "metadata": {
        "id": "oeXdQgbxwhTv"
      },
      "outputs": [],
      "source": [
        "def convert_inputs(input_object):\n",
        "  return {\"messages\" : [HumanMessage(content=input_object[\"question\"])]}\n",
        "\n",
        "def parse_output(input_state):\n",
        "  return input_state[\"messages\"][-1].content\n",
        "\n",
        "agent_chain = convert_inputs | compiled_graph | parse_output"
      ]
    },
    {
      "cell_type": "code",
      "execution_count": 18,
      "metadata": {
        "colab": {
          "base_uri": "https://localhost:8080/",
          "height": 105
        },
        "id": "orYxBZXSxJjZ",
        "outputId": "76be837b-6424-4516-8f63-07fbd8c25bf5"
      },
      "outputs": [
        {
          "data": {
            "text/plain": [
              "\"RAG, or Retrieval-Augmented Generation, is a technique used in natural language processing (NLP) that combines retrieval-based and generation-based approaches to improve the quality and relevance of generated text. Here's a brief overview of how it works:\\n\\n1. **Retrieval**: In the first step, the system retrieves relevant documents or pieces of information from a large corpus or database. This is typically done using a retrieval model that identifies the most relevant content based on the input query or context.\\n\\n2. **Augmentation**: The retrieved information is then used to augment the input to a generative model. This means that the generative model has access to additional context or facts that can help it produce more accurate and contextually relevant responses.\\n\\n3. **Generation**: Finally, a generative model, such as a transformer-based language model, uses the augmented input to generate a response. The presence of retrieved information helps the model to generate text that is not only coherent but also factually accurate and relevant to the query.\\n\\nRAG is particularly useful in applications where the model needs to provide detailed and accurate information, such as in question answering systems, chatbots, and other AI-driven content generation tasks. By leveraging both retrieval and generation, RAG models can produce more informed and contextually appropriate responses.\""
            ]
          },
          "execution_count": 18,
          "metadata": {},
          "output_type": "execute_result"
        }
      ],
      "source": [
        "agent_chain.invoke({\"question\" : \"What is RAG?\"})"
      ]
    },
    {
      "cell_type": "markdown",
      "metadata": {
        "id": "f9UkCIqkpyZu"
      },
      "source": [
        "### Task 1: Creating An Evaluation Dataset\n",
        "\n",
        "Just as we saw last week, we'll want to create a dataset to test our Agent's ability to answer questions.\n",
        "\n",
        "In order to do this - we'll want to provide some questions and some answers. Let's look at how we can create such a dataset below.\n",
        "\n",
        "```python\n",
        "questions = [\n",
        "    \"What optimizer is used in QLoRA?\",\n",
        "    \"What data type was created in the QLoRA paper?\",\n",
        "    \"What is a Retrieval Augmented Generation system?\",\n",
        "    \"Who authored the QLoRA paper?\",\n",
        "    \"What is the most popular deep learning framework?\",\n",
        "    \"What significant improvements does the LoRA system make?\"\n",
        "]\n",
        "\n",
        "answers = [\n",
        "    {\"must_mention\" : [\"paged\", \"optimizer\"]},\n",
        "    {\"must_mention\" : [\"NF4\", \"NormalFloat\"]},\n",
        "    {\"must_mention\" : [\"ground\", \"context\"]},\n",
        "    {\"must_mention\" : [\"Tim\", \"Dettmers\"]},\n",
        "    {\"must_mention\" : [\"PyTorch\", \"TensorFlow\"]},\n",
        "    {\"must_mention\" : [\"reduce\", \"parameters\"]},\n",
        "]\n",
        "```"
      ]
    },
    {
      "cell_type": "markdown",
      "metadata": {
        "id": "VfMXF2KAsQxs"
      },
      "source": [
        "####🏗️ Activity #3:\n",
        "\n",
        "Please create a dataset in the above format with at least 5 questions."
      ]
    },
    {
      "cell_type": "code",
      "execution_count": 19,
      "metadata": {
        "id": "CbagRuJop83E"
      },
      "outputs": [],
      "source": [
        "questions = [\n",
        "    \"When was magna carta issued?\",\n",
        "    \"Who is the current governor of Massachusetts?\",\n",
        "    \"How many member nations are in the UN?\",\n",
        "    \"What was the most popular news show of 2021?\",\n",
        "    \"Who invented Linux?\"\n",
        "]\n",
        "\n",
        "answers = [\n",
        "    {\"must_mention\" : [\"1215\"]},\n",
        "    {\"must_mention\" : [\"Maura\", \"Healey\"]},\n",
        "    {\"must_mention\" : [\"193\"]},\n",
        "    {\"must_mention\" : [\"Tucker\", \"Carlson\", \"Tonight\"]},\n",
        "    {\"must_mention\" : [\"Linus\", \"Torvalds\"]},\n",
        "]"
      ]
    },
    {
      "cell_type": "markdown",
      "metadata": {
        "id": "z7QVFuAmsh7L"
      },
      "source": [
        "Now we can add our dataset to our LangSmith project using the following code which we saw last Thursday!"
      ]
    },
    {
      "cell_type": "code",
      "execution_count": 20,
      "metadata": {
        "id": "RLfrZrgSsn85"
      },
      "outputs": [],
      "source": [
        "from langsmith import Client\n",
        "\n",
        "client = Client()\n",
        "\n",
        "dataset_name = f\"Retrieval Augmented Generation - Evaluation Dataset - {uuid4().hex[0:8]}\"\n",
        "\n",
        "dataset = client.create_dataset(\n",
        "    dataset_name=dataset_name,\n",
        "    description=\"Questions about historical and political facts.\"\n",
        ")\n",
        "\n",
        "client.create_examples(\n",
        "    inputs=[{\"question\" : q} for q in questions],\n",
        "    outputs=answers,\n",
        "    dataset_id=dataset.id,\n",
        ")"
      ]
    },
    {
      "cell_type": "markdown",
      "metadata": {
        "id": "ciV73F9Q04w0"
      },
      "source": [
        "#### ❓ Question #3:\n",
        "\n",
        "How are the correct answers associated with the questions?\n",
        "\n",
        "> NOTE: Feel free to indicate if this is problematic or not\n",
        "\n",
        "#### Answer:\n",
        "\n",
        "They are provided in the same order as the questions. This could cause difficulties with reading and editing longer lists."
      ]
    },
    {
      "cell_type": "markdown",
      "metadata": {
        "id": "-lRTXUrTtP9Y"
      },
      "source": [
        "### Task 2: Adding Evaluators\n",
        "\n",
        "Now we can add a custom evaluator to see if our responses contain the expected information.\n",
        "\n",
        "We'll be using a fairly naive exact-match process to determine if our response contains specific strings."
      ]
    },
    {
      "cell_type": "code",
      "execution_count": 21,
      "metadata": {
        "id": "QrAUXMFftlAY"
      },
      "outputs": [],
      "source": [
        "from langsmith.evaluation import EvaluationResult, run_evaluator\n",
        "\n",
        "@run_evaluator\n",
        "def must_mention(run, example) -> EvaluationResult:\n",
        "    prediction = run.outputs.get(\"output\") or \"\"\n",
        "    required = example.outputs.get(\"must_mention\") or []\n",
        "    score = all(phrase in prediction for phrase in required)\n",
        "    return EvaluationResult(key=\"must_mention\", score=score)"
      ]
    },
    {
      "cell_type": "markdown",
      "metadata": {
        "id": "PNtHORUh0jZY"
      },
      "source": [
        "#### ❓ Question #4:\n",
        "\n",
        "What are some ways you could improve this metric as-is?\n",
        "\n",
        "> NOTE: Alternatively you can suggest where gaps exist in this method.\n",
        "\n",
        "It may help to add more required words for more nuanced questions, but I picked questions that could be easily verified with a small number of words or a verifiable number. Other questions may have more nuanced answers that may not be accurate even if the phrases are mentioned. There may be additional context in the answer that invalidates its accuracy.\n",
        "For example, it could state that Maura Healey was formerly the governer but not currently, and this would incorrectly match our evaluation."
      ]
    },
    {
      "cell_type": "markdown",
      "metadata": {
        "id": "r1RJr349zhv7"
      },
      "source": [
        "Task 3: Evaluating\n",
        "\n",
        "All that is left to do is evaluate our agent's response!"
      ]
    },
    {
      "cell_type": "code",
      "execution_count": 22,
      "metadata": {
        "colab": {
          "base_uri": "https://localhost:8080/",
          "height": 118,
          "referenced_widgets": [
            "efcf57067cf743d8b4ce059a61cbe02e",
            "53e33aae3b97490c82aec7bbb0d6ebba",
            "ad84e0e971d3455db2efe7dd0d1f803e",
            "72adef9b70dd48198b7322b6c5b113cf",
            "8a61d045ffd44ac58f3f13eb10044836",
            "041e22a9b5514e36bd4d1dac01d5d398",
            "886d762f2a7c421382efb5502c6d42a1",
            "ab91fd625bbd43afbf8c6398193a88d0",
            "716557ad09874dcb989d75f7c74424cd",
            "77d4c0ebaae045b58efc4f789c9a2360",
            "0d622ccc56264fac8fd7508dbdbe6e29"
          ]
        },
        "id": "p5TeCUUkuGld",
        "outputId": "2f7d62a2-e78d-447a-d07b-f9e4d500fb79"
      },
      "outputs": [
        {
          "name": "stdout",
          "output_type": "stream",
          "text": [
            "View the evaluation results for experiment: 'RAG Pipeline - Evaluation - 8602-a868c2e1' at:\n",
            "https://smith.langchain.com/o/bd9f2d65-7fdc-4948-88b0-b2a5d41f0f20/datasets/1252759f-b5f2-4b12-8819-dcc636ab77f1/compare?selectedSessions=0d0a7d5e-ea80-4c20-9750-8915c229f504\n",
            "\n",
            "\n"
          ]
        },
        {
          "data": {
            "application/vnd.jupyter.widget-view+json": {
              "model_id": "fd6000a8523e4d4eaadde347e63cb57b",
              "version_major": 2,
              "version_minor": 0
            },
            "text/plain": [
              "0it [00:00, ?it/s]"
            ]
          },
          "metadata": {},
          "output_type": "display_data"
        }
      ],
      "source": [
        "experiment_results = client.evaluate(\n",
        "    agent_chain,\n",
        "    data=dataset_name,\n",
        "    evaluators=[must_mention],\n",
        "    experiment_prefix=f\"RAG Pipeline - Evaluation - {uuid4().hex[0:4]}\",\n",
        "    metadata={\"version\": \"1.0.0\"},\n",
        ")"
      ]
    },
    {
      "cell_type": "code",
      "execution_count": 23,
      "metadata": {
        "colab": {
          "base_uri": "https://localhost:8080/",
          "height": 342
        },
        "id": "eeEqU7s05Byu",
        "outputId": "78395075-a05d-4ebd-c798-ed968b935318"
      },
      "outputs": [
        {
          "data": {
            "text/html": [
              "<ExperimentResults RAG Pipeline - Evaluation - 8602-a868c2e1>"
            ],
            "text/plain": [
              "<ExperimentResults RAG Pipeline - Evaluation - 8602-a868c2e1>"
            ]
          },
          "execution_count": 23,
          "metadata": {},
          "output_type": "execute_result"
        }
      ],
      "source": [
        "experiment_results"
      ]
    },
    {
      "cell_type": "markdown",
      "metadata": {
        "id": "jhTNe4kWrplB"
      },
      "source": [
        "## Part 2: LangGraph with Helpfulness:"
      ]
    },
    {
      "cell_type": "markdown",
      "metadata": {
        "id": "w1wKRddbIY_S"
      },
      "source": [
        "### Task 3: Adding Helpfulness Check and \"Loop\" Limits\n",
        "\n",
        "Now that we've done evaluation - let's see if we can add an extra step where we review the content we've generated to confirm if it fully answers the user's query!\n",
        "\n",
        "We're going to make a few key adjustments to account for this:\n",
        "\n",
        "1. We're going to add an artificial limit on how many \"loops\" the agent can go through - this will help us to avoid the potential situation where we never exit the loop.\n",
        "2. We'll add to our existing conditional edge to obtain the behaviour we desire."
      ]
    },
    {
      "cell_type": "markdown",
      "metadata": {
        "id": "npTYJ8ayR5B3"
      },
      "source": [
        "First, let's define our state again - we can check the length of the state object, so we don't need additional state for this."
      ]
    },
    {
      "cell_type": "code",
      "execution_count": 24,
      "metadata": {
        "id": "-LQ84YhyJG0w"
      },
      "outputs": [],
      "source": [
        "class AgentState(TypedDict):\n",
        "  messages: Annotated[list, add_messages]"
      ]
    },
    {
      "cell_type": "markdown",
      "metadata": {
        "id": "sD7EV0HqSQcb"
      },
      "source": [
        "Now we can set our graph up! This process will be almost entirely the same - with the inclusion of one additional node/conditional edge!"
      ]
    },
    {
      "cell_type": "markdown",
      "metadata": {
        "id": "oajBwLkFVi1N"
      },
      "source": [
        "####🏗️ Activity #5:\n",
        "\n",
        "Please write markdown for the following cells to explain what each is doing."
      ]
    },
    {
      "cell_type": "markdown",
      "metadata": {
        "id": "M6rN7feNVn9f"
      },
      "source": [
        "First we create a new graph with state, and initiate its state with the AgentState class defined above. As with before, we will add two nodes, one for calling the LLM to evaluate the user query, and the other to execute actions."
      ]
    },
    {
      "cell_type": "code",
      "execution_count": 25,
      "metadata": {
        "colab": {
          "base_uri": "https://localhost:8080/"
        },
        "id": "6r6XXA5FJbVf",
        "outputId": "ff713041-e498-4f0f-a875-a03502b87729"
      },
      "outputs": [
        {
          "data": {
            "text/plain": [
              "<langgraph.graph.state.StateGraph at 0x11c243610>"
            ]
          },
          "execution_count": 25,
          "metadata": {},
          "output_type": "execute_result"
        }
      ],
      "source": [
        "graph_with_helpfulness_check = StateGraph(AgentState)\n",
        "\n",
        "graph_with_helpfulness_check.add_node(\"agent\", call_model)\n",
        "graph_with_helpfulness_check.add_node(\"action\", tool_node)"
      ]
    },
    {
      "cell_type": "markdown",
      "metadata": {
        "id": "XZ22o2mWVrfp"
      },
      "source": [
        "We begin the graph at the `call_model` node we created."
      ]
    },
    {
      "cell_type": "code",
      "execution_count": 26,
      "metadata": {
        "colab": {
          "base_uri": "https://localhost:8080/"
        },
        "id": "HNWHwWxuRiLY",
        "outputId": "295f5a35-ceff-452a-ffb8-c52eada6a816"
      },
      "outputs": [
        {
          "data": {
            "text/plain": [
              "<langgraph.graph.state.StateGraph at 0x11c243610>"
            ]
          },
          "execution_count": 26,
          "metadata": {},
          "output_type": "execute_result"
        }
      ],
      "source": [
        "graph_with_helpfulness_check.set_entry_point(\"agent\")"
      ]
    },
    {
      "cell_type": "markdown",
      "metadata": {
        "id": "rsXeF6xlaXOZ"
      },
      "source": [
        "Next we will build out a more robust conditional edge function."
      ]
    },
    {
      "cell_type": "code",
      "execution_count": 27,
      "metadata": {
        "id": "z_Sq3A9SaV1O"
      },
      "outputs": [],
      "source": [
        "from langchain_core.prompts import PromptTemplate\n",
        "from langchain_core.output_parsers import StrOutputParser\n",
        "\n",
        "def tool_call_or_helpful(state):\n",
        "  last_message = state[\"messages\"][-1]\n",
        "\n",
        "  if last_message.tool_calls:\n",
        "    return \"action\"\n",
        "\n",
        "  initial_query = state[\"messages\"][0]\n",
        "  final_response = state[\"messages\"][-1]\n",
        "\n",
        "  if len(state[\"messages\"]) > 10:\n",
        "    return \"end\"\n",
        "\n",
        "  prompt_template = \"\"\"\\\n",
        "  Given an initial query and a final response, determine if the final response is extremely helpful or not. Please indicate helpfulness with a 'Y' and unhelpfulness as an 'N'.\n",
        "\n",
        "  Initial Query:\n",
        "  {initial_query}\n",
        "\n",
        "  Final Response:\n",
        "  {final_response}\"\"\"\n",
        "\n",
        "  prompt_template = PromptTemplate.from_template(prompt_template)\n",
        "\n",
        "  helpfulness_check_model = ChatOpenAI(model=\"gpt-4\")\n",
        "\n",
        "  helpfulness_chain = prompt_template | helpfulness_check_model | StrOutputParser()\n",
        "\n",
        "  helpfulness_response = helpfulness_chain.invoke({\"initial_query\" : initial_query.content, \"final_response\" : final_response.content})\n",
        "\n",
        "  if \"Y\" in helpfulness_response:\n",
        "    return \"end\"\n",
        "  else:\n",
        "    return \"continue\""
      ]
    },
    {
      "cell_type": "markdown",
      "metadata": {
        "id": "Fz1u9Vf4SHxJ"
      },
      "source": [
        "####🏗️ Activity #4:\n",
        "\n",
        "Please write what is happening in our `tool_call_or_helpful` function!"
      ]
    },
    {
      "cell_type": "markdown",
      "metadata": {
        "id": "6BhnBW2YVsJO"
      },
      "source": [
        "This conditional edge sets up a new chain to internally evaluate if a response is helpful enough to return to the user. Using the first and last messages in the state list, we instruct a selected model to compare and indicate in its answer a \"Y\" if the latest message is helpful, and a \"N\" if not. When the chain is invoked, the first and last messages are passed to format the prompt, the prompt is sent to gpt-4 for evaluation, and the output parsed for readibility. Then we can check for the \"Y\" and end if it is found.\n",
        "\n",
        "It may be that a question does not have a helpful answer and the chain gets caught in a loop. Our conditional check will see if there are over ten messages in the chain, and exit if so. If not, we will use \"continue\" to return to the agent for another response.\n",
        "\n",
        "Now we attach the completed function as a conditional edge on our \"agent\" entry point, with a configuration mapping the string output to the name of the next node."
      ]
    },
    {
      "cell_type": "code",
      "execution_count": 28,
      "metadata": {
        "colab": {
          "base_uri": "https://localhost:8080/"
        },
        "id": "aVTKnWMbP_8T",
        "outputId": "7f729b1f-311c-4084-ceaf-0da437900c85"
      },
      "outputs": [
        {
          "data": {
            "text/plain": [
              "<langgraph.graph.state.StateGraph at 0x11c243610>"
            ]
          },
          "execution_count": 28,
          "metadata": {},
          "output_type": "execute_result"
        }
      ],
      "source": [
        "graph_with_helpfulness_check.add_conditional_edges(\n",
        "    \"agent\",\n",
        "    tool_call_or_helpful,\n",
        "    {\n",
        "        \"continue\" : \"agent\",\n",
        "        \"action\" : \"action\",\n",
        "        \"end\" : END\n",
        "    }\n",
        ")"
      ]
    },
    {
      "cell_type": "markdown",
      "metadata": {
        "id": "ZGDLEWOIVtK0"
      },
      "source": [
        "We complete the graph with an edge from the action back to the agent."
      ]
    },
    {
      "cell_type": "code",
      "execution_count": 29,
      "metadata": {
        "colab": {
          "base_uri": "https://localhost:8080/"
        },
        "id": "cbDK2MbuREgU",
        "outputId": "21a64c20-27a1-4e0e-afde-a639abaa8b55"
      },
      "outputs": [
        {
          "data": {
            "text/plain": [
              "<langgraph.graph.state.StateGraph at 0x11c243610>"
            ]
          },
          "execution_count": 29,
          "metadata": {},
          "output_type": "execute_result"
        }
      ],
      "source": [
        "graph_with_helpfulness_check.add_edge(\"action\", \"agent\")"
      ]
    },
    {
      "cell_type": "markdown",
      "metadata": {
        "id": "rSI8AOaEVvT-"
      },
      "source": [
        "And then compile our graph, so it is ready to be invoked!"
      ]
    },
    {
      "cell_type": "code",
      "execution_count": 30,
      "metadata": {
        "id": "oQldl8ERQ8lf"
      },
      "outputs": [],
      "source": [
        "agent_with_helpfulness_check = graph_with_helpfulness_check.compile()"
      ]
    },
    {
      "cell_type": "markdown",
      "metadata": {
        "id": "F67FGCMRVwGz"
      },
      "source": [
        "Now we can create our input message and invoke the graph with asynchronous streaming, to see each step it takes before its final answer."
      ]
    },
    {
      "cell_type": "code",
      "execution_count": 31,
      "metadata": {
        "colab": {
          "base_uri": "https://localhost:8080/"
        },
        "id": "B3oo8E-PRK1T",
        "outputId": "f152dea8-96ad-4d29-d8b2-a064c96a8bd3"
      },
      "outputs": [
        {
          "name": "stdout",
          "output_type": "stream",
          "text": [
            "Receiving update from node: 'agent'\n",
            "[AIMessage(content='', additional_kwargs={'tool_calls': [{'id': 'call_Mmy37UZwYKvq29ZqFFi7NuP4', 'function': {'arguments': '{\"query\": \"LoRA machine learning\"}', 'name': 'arxiv'}, 'type': 'function'}, {'id': 'call_YzodNv61jFbqc9V26gkswxnE', 'function': {'arguments': '{\"query\": \"Tim Dettmers\"}', 'name': 'tavily_search_results_json'}, 'type': 'function'}, {'id': 'call_3xUeLkjKjBKMpTuOqQEZh92w', 'function': {'arguments': '{\"query\": \"Attention mechanism machine learning\"}', 'name': 'arxiv'}, 'type': 'function'}], 'refusal': None}, response_metadata={'token_usage': {'completion_tokens': 72, 'prompt_tokens': 177, 'total_tokens': 249, 'completion_tokens_details': {'accepted_prediction_tokens': 0, 'audio_tokens': 0, 'reasoning_tokens': 0, 'rejected_prediction_tokens': 0}, 'prompt_tokens_details': {'audio_tokens': 0, 'cached_tokens': 0}}, 'model_name': 'gpt-4o-2024-08-06', 'system_fingerprint': 'fp_50cad350e4', 'finish_reason': 'tool_calls', 'logprobs': None}, id='run-5925e697-f1f7-42b7-ab63-5e8de7b296f4-0', tool_calls=[{'name': 'arxiv', 'args': {'query': 'LoRA machine learning'}, 'id': 'call_Mmy37UZwYKvq29ZqFFi7NuP4', 'type': 'tool_call'}, {'name': 'tavily_search_results_json', 'args': {'query': 'Tim Dettmers'}, 'id': 'call_YzodNv61jFbqc9V26gkswxnE', 'type': 'tool_call'}, {'name': 'arxiv', 'args': {'query': 'Attention mechanism machine learning'}, 'id': 'call_3xUeLkjKjBKMpTuOqQEZh92w', 'type': 'tool_call'}], usage_metadata={'input_tokens': 177, 'output_tokens': 72, 'total_tokens': 249, 'input_token_details': {'audio': 0, 'cache_read': 0}, 'output_token_details': {'audio': 0, 'reasoning': 0}})]\n",
            "\n",
            "\n",
            "\n",
            "Receiving update from node: 'action'\n",
            "[ToolMessage(content=\"Published: 2024-10-28\\nTitle: KD-LoRA: A Hybrid Approach to Efficient Fine-Tuning with LoRA and Knowledge Distillation\\nAuthors: Rambod Azimi, Rishav Rishav, Marek Teichmann, Samira Ebrahimi Kahou\\nSummary: Large language models (LLMs) have demonstrated remarkable performance across\\nvarious downstream tasks. However, the high computational and memory\\nrequirements of LLMs are a major bottleneck. To address this,\\nparameter-efficient fine-tuning (PEFT) methods such as low-rank adaptation\\n(LoRA) have been proposed to reduce computational costs while ensuring minimal\\nloss in performance. Additionally, knowledge distillation (KD) has been a\\npopular choice for obtaining compact student models from teacher models. In\\nthis work, we present KD-LoRA, a novel fine-tuning method that combines LoRA\\nwith KD. Our results demonstrate that KD-LoRA achieves performance comparable\\nto full fine-tuning (FFT) and LoRA while significantly reducing resource\\nrequirements. Specifically, KD-LoRA retains 98% of LoRA's performance on the\\nGLUE benchmark, while being 40% more compact. Additionally, KD-LoRA reduces GPU\\nmemory usage by 30% compared to LoRA, while decreasing inference time by 30%\\ncompared to both FFT and LoRA. We evaluate KD-LoRA across three encoder-only\\nmodels: BERT, RoBERTa, and DeBERTaV3. Code is available at\\nhttps://github.com/rambodazimi/KD-LoRA.\\n\\nPublished: 2024-04-07\\nTitle: A Note on LoRA\\nAuthors: Vlad Fomenko, Han Yu, Jongho Lee, Stanley Hsieh, Weizhu Chen\\nSummary: LoRA (Low-Rank Adaptation) has emerged as a preferred method for efficiently\\nadapting Large Language Models (LLMs) with remarkable simplicity and efficacy.\\nThis note extends the original LoRA paper by offering new perspectives that\\nwere not initially discussed and presents a series of insights for deploying\\nLoRA at scale. Without introducing new experiments, we aim to improve the\\nunderstanding and application of LoRA.\\n\\nPublished: 2024-06-18\\nTitle: LoRA-drop: Efficient LoRA Parameter Pruning based on Output Evaluation\\nAuthors: Hongyun Zhou, Xiangyu Lu, Wang Xu, Conghui Zhu, Tiejun Zhao, Muyun Yang\\nSummary: Low-Rank Adaptation (LoRA) is currently the most commonly used\\nParameter-efficient fine-tuning (PEFT) method, it introduces auxiliary\\nparameters for each layer to fine-tune the pre-trained model under limited\\ncomputing resources. However, it still faces resource consumption challenges\\nduring training when scaling up to larger models. Most previous studies have\\ntackled this issue by using pruning techniques, which involve removing LoRA\\nparameters deemed unimportant. Nonetheless, these efforts only analyze LoRA\\nparameter features to evaluate their importance, such as parameter count, size,\\nand gradient. In fact, the output of LoRA (product of LoRA parameter and hidden\\nstate), directly impacts the final results. Preliminary experiments indicate\\nthat a fraction of LoRA elements possesses significantly high output values,\\nsubstantially influencing the layer output. Motivated by the observation, we\\npropose LoRA-drop. Concretely, LoRA-drop evaluates the importance of LoRA based\\non the LoRA output. Then we retain LoRA for important layers and the other\\nlayers share the same LoRA. We conduct abundant experiments with models of\\ndifferent scales on NLU and NLG tasks. Results demonstrate that LoRA-drop can\\nachieve performance comparable to full fine-tuning and LoRA, while retaining\\n50\\\\% of the LoRA parameters on average.\", name='arxiv', id='d5ef713f-ebf0-4f02-97da-d3a894643304', tool_call_id='call_Mmy37UZwYKvq29ZqFFi7NuP4'), ToolMessage(content='[{\"url\": \"https://timdettmers.com/about/\", \"content\": \"Tim Dettmers is a research scientist at Ai2 and an incoming assistant professor at CMU. He works on efficient deep learning methods, such as quantization, sparsity, and low-bit inference.\"}, {\"url\": \"https://timdettmers.com/\", \"content\": \"Tim Dettmers is a researcher and teacher in deep learning and natural language processing. His blog covers topics such as hardware, quantization, sparse networks, creativity, and grad school choices.\"}, {\"url\": \"https://ai2050.schmidtsciences.org/fellow/tim-dettmers/\", \"content\": \"Tim Dettmers is an Assistant Professor at Carnegie Mellon University and a Research Scientist at the Allen Institute for AI, and his research focuses on making foundation models, such as ChatGPT, accessible to researchers and practitioners by reducing their resource requirements. AI models like ChatGPT work well for general use but fail in specialized expert domains, such as the medical sciences. To make AI models work in expert domains, one must adapt them, which is costly and requires significant AI expertise. This project overcomes these cost and expertise barriers through two new approaches: (1) use AI models themselves to perform the AI model adaptation process automatically; (2) make the adaptation process cheap so it can be run on regular consumer hardware.\"}, {\"url\": \"https://tech.cornell.edu/events/seminar-cornell-tech-tim-dettmers/\", \"content\": \"Jacobs Technion-Cornell Dual MS Degrees – Health Tech Concentration Jacobs Technion-Cornell Dual MS Degrees – Urban Tech Concentration Cornell Tech Impact Study Jacobs Technion-Cornell Dual MS Degrees – Urban Tech Concentration Cornell Tech Impact Study Seminar @ Cornell Tech: Tim Dettmers Research Events, Seminar @ Cornell Tech, Master\\'s Students, PhDs, Postdocs In this talk, Tim Dettmers will present research that significantly lowers these barriers for a wide range of use cases, including inference algorithms that are used to make predictions after training, finetuning approaches that adapt a trained model to new data, and finally, full training of foundation models from scratch. Tim Dettmers’s research focuses on making foundation models, such as ChatGPT, accessible to researchers and practitioners by reducing their resource requirements.\"}, {\"url\": \"https://www.interconnects.ai/p/tim-dettmers\", \"content\": \"Like we can go right into this, because I know you\\'ve been working on SWE Bench a lot and like, do you think, this is just one example domain, but like in the future, do you think it\\'ll be better to use open AI API models or those types of things? Tim Dettmers [00:21:45]: Um, I mean, I have done it and I feel like you need a certain mental model to get in sort of this mindset, really. I think a lot of why I work here is just like, I want to do basic things that people can build on.\"}]', name='tavily_search_results_json', id='c7c578fc-3952-4317-ad4d-d359d6798661', tool_call_id='call_YzodNv61jFbqc9V26gkswxnE', artifact={'query': 'Tim Dettmers', 'follow_up_questions': None, 'answer': None, 'images': [], 'results': [{'title': 'About Me — Tim Dettmers', 'url': 'https://timdettmers.com/about/', 'content': 'Tim Dettmers is a research scientist at Ai2 and an incoming assistant professor at CMU. He works on efficient deep learning methods, such as quantization, sparsity, and low-bit inference.', 'score': 0.9407083, 'raw_content': None}, {'title': 'Tim Dettmers — Making deep learning accessible.', 'url': 'https://timdettmers.com/', 'content': 'Tim Dettmers is a researcher and teacher in deep learning and natural language processing. His blog covers topics such as hardware, quantization, sparse networks, creativity, and grad school choices.', 'score': 0.9405774, 'raw_content': None}, {'title': 'Tim Dettmers - AI2050', 'url': 'https://ai2050.schmidtsciences.org/fellow/tim-dettmers/', 'content': 'Tim Dettmers is an Assistant Professor at Carnegie Mellon University and a Research Scientist at the Allen Institute for AI, and his research focuses on making foundation models, such as ChatGPT, accessible to researchers and practitioners by reducing their resource requirements. AI models like ChatGPT work well for general use but fail in specialized expert domains, such as the medical sciences. To make AI models work in expert domains, one must adapt them, which is costly and requires significant AI expertise. This project overcomes these cost and expertise barriers through two new approaches: (1) use AI models themselves to perform the AI model adaptation process automatically; (2) make the adaptation process cheap so it can be run on regular consumer hardware.', 'score': 0.9263638, 'raw_content': None}, {'title': 'Seminar @ Cornell Tech: Tim Dettmers', 'url': 'https://tech.cornell.edu/events/seminar-cornell-tech-tim-dettmers/', 'content': \"Jacobs Technion-Cornell Dual MS Degrees – Health Tech Concentration Jacobs Technion-Cornell Dual MS Degrees – Urban Tech Concentration Cornell Tech Impact Study Jacobs Technion-Cornell Dual MS Degrees – Urban Tech Concentration Cornell Tech Impact Study Seminar @ Cornell Tech: Tim Dettmers Research Events, Seminar @ Cornell Tech, Master's Students, PhDs, Postdocs In this talk, Tim Dettmers will present research that significantly lowers these barriers for a wide range of use cases, including inference algorithms that are used to make predictions after training, finetuning approaches that adapt a trained model to new data, and finally, full training of foundation models from scratch. Tim Dettmers’s research focuses on making foundation models, such as ChatGPT, accessible to researchers and practitioners by reducing their resource requirements.\", 'score': 0.7574541, 'raw_content': None}, {'title': 'Interviewing Tim Dettmers on open-source AI: Agents, scaling ...', 'url': 'https://www.interconnects.ai/p/tim-dettmers', 'content': \"Like we can go right into this, because I know you've been working on SWE Bench a lot and like, do you think, this is just one example domain, but like in the future, do you think it'll be better to use open AI API models or those types of things? Tim Dettmers [00:21:45]: Um, I mean, I have done it and I feel like you need a certain mental model to get in sort of this mindset, really. I think a lot of why I work here is just like, I want to do basic things that people can build on.\", 'score': 0.5521781, 'raw_content': None}], 'response_time': 1.45}), ToolMessage(content='Published: 2022-03-27\\nTitle: A General Survey on Attention Mechanisms in Deep Learning\\nAuthors: Gianni Brauwers, Flavius Frasincar\\nSummary: Attention is an important mechanism that can be employed for a variety of\\ndeep learning models across many different domains and tasks. This survey\\nprovides an overview of the most important attention mechanisms proposed in the\\nliterature. The various attention mechanisms are explained by means of a\\nframework consisting of a general attention model, uniform notation, and a\\ncomprehensive taxonomy of attention mechanisms. Furthermore, the various\\nmeasures for evaluating attention models are reviewed, and methods to\\ncharacterize the structure of attention models based on the proposed framework\\nare discussed. Last, future work in the field of attention models is\\nconsidered.\\n\\nPublished: 2022-07-04\\nTitle: Attention mechanisms for physiological signal deep learning: which attention should we take?\\nAuthors: Seong-A Park, Hyung-Chul Lee, Chul-Woo Jung, Hyun-Lim Yang\\nSummary: Attention mechanisms are widely used to dramatically improve deep learning\\nmodel performance in various fields. However, their general ability to improve\\nthe performance of physiological signal deep learning model is immature. In\\nthis study, we experimentally analyze four attention mechanisms (e.g.,\\nsqueeze-and-excitation, non-local, convolutional block attention module, and\\nmulti-head self-attention) and three convolutional neural network (CNN)\\narchitectures (e.g., VGG, ResNet, and Inception) for two representative\\nphysiological signal prediction tasks: the classification for predicting\\nhypotension and the regression for predicting cardiac output (CO). We evaluated\\nmultiple combinations for performance and convergence of physiological signal\\ndeep learning model. Accordingly, the CNN models with the spatial attention\\nmechanism showed the best performance in the classification problem, whereas\\nthe channel attention mechanism achieved the lowest error in the regression\\nproblem. Moreover, the performance and convergence of the CNN models with\\nattention mechanisms were better than stand-alone self-attention models in both\\nproblems. Hence, we verified that convolutional operation and attention\\nmechanisms are complementary and provide faster convergence time, despite the\\nstand-alone self-attention models requiring fewer parameters.\\n\\nPublished: 2018-10-17\\nTitle: An Analysis of Attention Mechanisms: The Case of Word Sense Disambiguation in Neural Machine Translation\\nAuthors: Gongbo Tang, Rico Sennrich, Joakim Nivre\\nSummary: Recent work has shown that the encoder-decoder attention mechanisms in neural\\nmachine translation (NMT) are different from the word alignment in statistical\\nmachine translation. In this paper, we focus on analyzing encoder-decoder\\nattention mechanisms, in the case of word sense disambiguation (WSD) in NMT\\nmodels. We hypothesize that attention mechanisms pay more attention to context\\ntokens when translating ambiguous words. We explore the attention distribution\\npatterns when translating ambiguous nouns. Counter-intuitively, we find that\\nattention mechanisms are likely to distribute more attention to the ambiguous\\nnoun itself rather than context tokens, in comparison to other nouns. We\\nconclude that attention mechanism is not the main mechanism used by NMT models\\nto incorporate contextual information for WSD. The experimental results suggest\\nthat NMT models learn to encode contextual information necessary for WSD in the\\nencoder hidden states. For the attention mechanism in Transformer models, we\\nreveal that the first few layers gradually learn to \"align\" source and target\\ntokens and the last few layers learn to extract features from the related but\\nunaligned context tokens.', name='arxiv', id='e2836283-e97e-474b-a96a-9a5ac0496fef', tool_call_id='call_3xUeLkjKjBKMpTuOqQEZh92w')]\n",
            "\n",
            "\n",
            "\n",
            "Receiving update from node: 'agent'\n",
            "[AIMessage(content='### LoRA in Machine Learning\\n\\nLoRA, or Low-Rank Adaptation, is a method used for efficiently adapting large language models (LLMs) by reducing computational costs while maintaining performance. It introduces auxiliary parameters for each layer to fine-tune pre-trained models under limited computing resources. LoRA is a parameter-efficient fine-tuning (PEFT) method that has been extended and improved through various approaches, such as KD-LoRA, which combines LoRA with knowledge distillation to further reduce resource requirements. LoRA-drop is another approach that prunes LoRA parameters based on output evaluation to maintain performance while reducing parameter usage.\\n\\n### Tim Dettmers\\n\\nTim Dettmers is a research scientist at the Allen Institute for AI and an incoming assistant professor at Carnegie Mellon University. His work focuses on efficient deep learning methods, including quantization, sparsity, and low-bit inference. He aims to make foundation models like ChatGPT more accessible by reducing their resource requirements, enabling their use in specialized expert domains. Dettmers is known for his research and teaching in deep learning and natural language processing, and he shares insights on these topics through his blog.\\n\\n### Attention Mechanism in Machine Learning\\n\\nAttention mechanisms are crucial in deep learning models, allowing them to focus on specific parts of the input data when making predictions. They are widely used across various domains and tasks to improve model performance. Attention mechanisms can be categorized into different types, such as squeeze-and-excitation, non-local, convolutional block attention module, and multi-head self-attention. These mechanisms help models, like convolutional neural networks (CNNs), to better capture relevant information, leading to improved performance and faster convergence. In neural machine translation, attention mechanisms help models focus on context tokens, although they may not always be the primary mechanism for incorporating contextual information.', additional_kwargs={'refusal': None}, response_metadata={'token_usage': {'completion_tokens': 367, 'prompt_tokens': 2455, 'total_tokens': 2822, 'completion_tokens_details': {'accepted_prediction_tokens': 0, 'audio_tokens': 0, 'reasoning_tokens': 0, 'rejected_prediction_tokens': 0}, 'prompt_tokens_details': {'audio_tokens': 0, 'cached_tokens': 0}}, 'model_name': 'gpt-4o-2024-08-06', 'system_fingerprint': 'fp_50cad350e4', 'finish_reason': 'stop', 'logprobs': None}, id='run-ada0c7b5-0dd0-41aa-baae-fac9d2e3000b-0', usage_metadata={'input_tokens': 2455, 'output_tokens': 367, 'total_tokens': 2822, 'input_token_details': {'audio': 0, 'cache_read': 0}, 'output_token_details': {'audio': 0, 'reasoning': 0}})]\n",
            "\n",
            "\n",
            "\n"
          ]
        }
      ],
      "source": [
        "inputs = {\"messages\" : [HumanMessage(content=\"Related to machine learning, what is LoRA? Also, who is Tim Dettmers? Also, what is Attention?\")]}\n",
        "\n",
        "async for chunk in agent_with_helpfulness_check.astream(inputs, stream_mode=\"updates\"):\n",
        "    for node, values in chunk.items():\n",
        "        print(f\"Receiving update from node: '{node}'\")\n",
        "        print(values[\"messages\"])\n",
        "        print(\"\\n\\n\")"
      ]
    },
    {
      "cell_type": "markdown",
      "metadata": {
        "id": "yVmZPs6lnpsM"
      },
      "source": [
        "### Task 4: LangGraph for the \"Patterns\" of GenAI\n",
        "\n",
        "Let's ask our system about the 4 patterns of Generative AI:\n",
        "\n",
        "1. Prompt Engineering\n",
        "2. RAG\n",
        "3. Fine-tuning\n",
        "4. Agents"
      ]
    },
    {
      "cell_type": "code",
      "execution_count": 32,
      "metadata": {
        "id": "ZoLl7GlXoae-"
      },
      "outputs": [],
      "source": [
        "patterns = [\"prompt engineering\", \"RAG\", \"fine-tuning\", \"LLM-based agents\"]"
      ]
    },
    {
      "cell_type": "code",
      "execution_count": 33,
      "metadata": {
        "colab": {
          "base_uri": "https://localhost:8080/"
        },
        "id": "Zkh0YJuCp3Zl",
        "outputId": "d847426e-71b3-47e6-b1ae-351a78d68d1e"
      },
      "outputs": [
        {
          "name": "stdout",
          "output_type": "stream",
          "text": [
            "**Prompt Engineering Definition:**\n",
            "\n",
            "Prompt engineering is the process of designing and refining input prompts to guide AI models, particularly those using natural language processing (NLP). It involves creating inputs that help AI systems understand tasks and generate accurate responses. This technique is crucial for optimizing interactions with generative AI models, such as large language models (LLMs) like OpenAI's ChatGPT and Google Gemini. Effective prompt engineering can lead to improved results and efficiency, as it allows users to extract the most value from these powerful models without needing to train them from scratch. Techniques in prompt engineering include few-shot learning, chain-of-thought reasoning, and iterative refinement. [Source](https://www.techopedia.com/definition/prompt-engineering), [Source](https://www.britannica.com/technology/prompt-engineering), [Source](https://www.33rdsquare.com/what-is-prompt-engineering/).\n",
            "\n",
            "**History of Prompt Engineering:**\n",
            "\n",
            "The history of prompt engineering is closely tied to the development of natural language processing (NLP) and AI. It dates back to the early days of NLP in the 1950s and 1960s with pioneers like Alan Turing and Noam Chomsky. The evolution of prompt engineering has been marked by significant milestones, such as the introduction of attention mechanisms in 2015, which revolutionized language models' contextual understanding. The rise of massive language models like GPT-3 in 2020-2021 further transformed prompt engineering, allowing for greater adaptability and domain-specific tailoring. Advanced prompting techniques have continued to evolve, with recent developments in 2022-2023 pushing language models beyond conventional tasks. [Source](https://promptly.substack.com/p/a-journey-through-the-history-of), [Source](http://www.ijerd.com/paper/vol20-issue11/201114611465.pdf), [Source](https://arxiv.org/abs/2310.04438).\n",
            "\n",
            "\n",
            "\n",
            "Retrieval-Augmented Generation (RAG) is a technique that enhances generative AI models by integrating information retrieval capabilities. This approach allows AI models to respond to user queries by referencing a specified set of documents, augmenting the information drawn from their static training data. RAG is particularly useful for tasks requiring deep understanding, contextual awareness, and factual precision, making it a significant advancement in generative AI and large language model (LLM) applications.\n",
            "\n",
            "RAG technology emerged prominently in 2020, with a paper by Patrick Lewis and co-authors from Facebook AI Research (now Meta AI), University College London, and New York University. This paper described RAG as a \"general-purpose fine-tuning recipe\" that can be used by nearly any LLM to connect with external resources. The concept was inspired by earlier methods and a paper from Google researchers, aiming to create a system that could learn and generate any text output by integrating a retrieval index.\n",
            "\n",
            "Since its inception, RAG has evolved significantly, with advancements like Modular RAG and AutoRAG frameworks, which enhance the reconfigurability and optimization of RAG systems. These developments have been driven by the increasing demands of application scenarios, leading to the integration of advanced retrievers, LLMs, and other complementary technologies.\n",
            "\n",
            "\n",
            "\n",
            "Fine-tuning is a process in machine learning where a pre-trained model is further trained on a smaller, task-specific dataset. This allows the model to adapt to specific tasks or domains while leveraging the general knowledge it has already acquired during its initial training on a larger dataset. Fine-tuning is particularly useful because it can significantly reduce the amount of data and computational resources required to train a model for a specific task, as the model starts with a strong foundation of general knowledge.\n",
            "\n",
            "Fine-tuning became prominent with the rise of transfer learning techniques, especially in the field of natural language processing (NLP) and computer vision. In NLP, the introduction of models like BERT (Bidirectional Encoder Representations from Transformers) in 2018 popularized the concept of fine-tuning. BERT demonstrated that a model pre-trained on a large corpus of text could be fine-tuned for specific tasks such as sentiment analysis, question answering, and named entity recognition with state-of-the-art results.\n",
            "\n",
            "In computer vision, fine-tuning has been used for a longer time, with models like AlexNet and VGG being fine-tuned for specific image classification tasks. The concept gained more traction with the development of deep learning frameworks and the availability of large pre-trained models.\n",
            "\n",
            "Overall, fine-tuning has become a standard practice in machine learning, enabling more efficient and effective model development across various domains.\n",
            "\n",
            "\n",
            "\n",
            "LLM-based agents, or Large Language Model-based agents, are intelligent systems that utilize large language models to interact with environments, whether physical, digital, or human. These agents are text-based and leverage the capabilities of large language models to perform tasks, make decisions, and solve problems across various domains. They significantly outperform earlier agents that were based on rules or reinforcement learning due to their generality and few-shot learning capabilities.\n",
            "\n",
            "The evolution of LLM-based agents can be traced back to earlier AI systems like ELIZA in 1966, which were rule-based and limited in scope. The development of LLM agents marks a significant advancement in AI, allowing for more versatile and scalable solutions in complex problem-solving areas such as software engineering, scientific discovery, and web automation.\n",
            "\n",
            "The concept of LLM-based agents began gaining traction as large language models like GPT-3 and others were developed and demonstrated their potential in various applications. These agents have become increasingly prominent in recent years, particularly as AI research and development have focused on enhancing the capabilities and applications of large language models.\n",
            "\n",
            "\n",
            "\n"
          ]
        }
      ],
      "source": [
        "for pattern in patterns:\n",
        "  what_is_string = f\"What is {pattern} and when did it break onto the scene??\"\n",
        "  inputs = {\"messages\" : [HumanMessage(content=what_is_string)]}\n",
        "  messages = agent_with_helpfulness_check.invoke(inputs)\n",
        "  print(messages[\"messages\"][-1].content)\n",
        "  print(\"\\n\\n\")"
      ]
    }
  ],
  "metadata": {
    "colab": {
      "provenance": []
    },
    "kernelspec": {
      "display_name": ".venv",
      "language": "python",
      "name": "python3"
    },
    "language_info": {
      "codemirror_mode": {
        "name": "ipython",
        "version": 3
      },
      "file_extension": ".py",
      "mimetype": "text/x-python",
      "name": "python",
      "nbconvert_exporter": "python",
      "pygments_lexer": "ipython3",
      "version": "3.13.1"
    },
    "widgets": {
      "application/vnd.jupyter.widget-state+json": {
        "041e22a9b5514e36bd4d1dac01d5d398": {
          "model_module": "@jupyter-widgets/base",
          "model_module_version": "1.2.0",
          "model_name": "LayoutModel",
          "state": {
            "_model_module": "@jupyter-widgets/base",
            "_model_module_version": "1.2.0",
            "_model_name": "LayoutModel",
            "_view_count": null,
            "_view_module": "@jupyter-widgets/base",
            "_view_module_version": "1.2.0",
            "_view_name": "LayoutView",
            "align_content": null,
            "align_items": null,
            "align_self": null,
            "border": null,
            "bottom": null,
            "display": null,
            "flex": null,
            "flex_flow": null,
            "grid_area": null,
            "grid_auto_columns": null,
            "grid_auto_flow": null,
            "grid_auto_rows": null,
            "grid_column": null,
            "grid_gap": null,
            "grid_row": null,
            "grid_template_areas": null,
            "grid_template_columns": null,
            "grid_template_rows": null,
            "height": null,
            "justify_content": null,
            "justify_items": null,
            "left": null,
            "margin": null,
            "max_height": null,
            "max_width": null,
            "min_height": null,
            "min_width": null,
            "object_fit": null,
            "object_position": null,
            "order": null,
            "overflow": null,
            "overflow_x": null,
            "overflow_y": null,
            "padding": null,
            "right": null,
            "top": null,
            "visibility": null,
            "width": null
          }
        },
        "0d622ccc56264fac8fd7508dbdbe6e29": {
          "model_module": "@jupyter-widgets/controls",
          "model_module_version": "1.5.0",
          "model_name": "DescriptionStyleModel",
          "state": {
            "_model_module": "@jupyter-widgets/controls",
            "_model_module_version": "1.5.0",
            "_model_name": "DescriptionStyleModel",
            "_view_count": null,
            "_view_module": "@jupyter-widgets/base",
            "_view_module_version": "1.2.0",
            "_view_name": "StyleView",
            "description_width": ""
          }
        },
        "53e33aae3b97490c82aec7bbb0d6ebba": {
          "model_module": "@jupyter-widgets/controls",
          "model_module_version": "1.5.0",
          "model_name": "HTMLModel",
          "state": {
            "_dom_classes": [],
            "_model_module": "@jupyter-widgets/controls",
            "_model_module_version": "1.5.0",
            "_model_name": "HTMLModel",
            "_view_count": null,
            "_view_module": "@jupyter-widgets/controls",
            "_view_module_version": "1.5.0",
            "_view_name": "HTMLView",
            "description": "",
            "description_tooltip": null,
            "layout": "IPY_MODEL_041e22a9b5514e36bd4d1dac01d5d398",
            "placeholder": "​",
            "style": "IPY_MODEL_886d762f2a7c421382efb5502c6d42a1",
            "value": ""
          }
        },
        "716557ad09874dcb989d75f7c74424cd": {
          "model_module": "@jupyter-widgets/controls",
          "model_module_version": "1.5.0",
          "model_name": "ProgressStyleModel",
          "state": {
            "_model_module": "@jupyter-widgets/controls",
            "_model_module_version": "1.5.0",
            "_model_name": "ProgressStyleModel",
            "_view_count": null,
            "_view_module": "@jupyter-widgets/base",
            "_view_module_version": "1.2.0",
            "_view_name": "StyleView",
            "bar_color": null,
            "description_width": ""
          }
        },
        "72adef9b70dd48198b7322b6c5b113cf": {
          "model_module": "@jupyter-widgets/controls",
          "model_module_version": "1.5.0",
          "model_name": "HTMLModel",
          "state": {
            "_dom_classes": [],
            "_model_module": "@jupyter-widgets/controls",
            "_model_module_version": "1.5.0",
            "_model_name": "HTMLModel",
            "_view_count": null,
            "_view_module": "@jupyter-widgets/controls",
            "_view_module_version": "1.5.0",
            "_view_name": "HTMLView",
            "description": "",
            "description_tooltip": null,
            "layout": "IPY_MODEL_77d4c0ebaae045b58efc4f789c9a2360",
            "placeholder": "​",
            "style": "IPY_MODEL_0d622ccc56264fac8fd7508dbdbe6e29",
            "value": " 6/? [00:36&lt;00:00,  5.78s/it]"
          }
        },
        "77d4c0ebaae045b58efc4f789c9a2360": {
          "model_module": "@jupyter-widgets/base",
          "model_module_version": "1.2.0",
          "model_name": "LayoutModel",
          "state": {
            "_model_module": "@jupyter-widgets/base",
            "_model_module_version": "1.2.0",
            "_model_name": "LayoutModel",
            "_view_count": null,
            "_view_module": "@jupyter-widgets/base",
            "_view_module_version": "1.2.0",
            "_view_name": "LayoutView",
            "align_content": null,
            "align_items": null,
            "align_self": null,
            "border": null,
            "bottom": null,
            "display": null,
            "flex": null,
            "flex_flow": null,
            "grid_area": null,
            "grid_auto_columns": null,
            "grid_auto_flow": null,
            "grid_auto_rows": null,
            "grid_column": null,
            "grid_gap": null,
            "grid_row": null,
            "grid_template_areas": null,
            "grid_template_columns": null,
            "grid_template_rows": null,
            "height": null,
            "justify_content": null,
            "justify_items": null,
            "left": null,
            "margin": null,
            "max_height": null,
            "max_width": null,
            "min_height": null,
            "min_width": null,
            "object_fit": null,
            "object_position": null,
            "order": null,
            "overflow": null,
            "overflow_x": null,
            "overflow_y": null,
            "padding": null,
            "right": null,
            "top": null,
            "visibility": null,
            "width": null
          }
        },
        "886d762f2a7c421382efb5502c6d42a1": {
          "model_module": "@jupyter-widgets/controls",
          "model_module_version": "1.5.0",
          "model_name": "DescriptionStyleModel",
          "state": {
            "_model_module": "@jupyter-widgets/controls",
            "_model_module_version": "1.5.0",
            "_model_name": "DescriptionStyleModel",
            "_view_count": null,
            "_view_module": "@jupyter-widgets/base",
            "_view_module_version": "1.2.0",
            "_view_name": "StyleView",
            "description_width": ""
          }
        },
        "8a61d045ffd44ac58f3f13eb10044836": {
          "model_module": "@jupyter-widgets/base",
          "model_module_version": "1.2.0",
          "model_name": "LayoutModel",
          "state": {
            "_model_module": "@jupyter-widgets/base",
            "_model_module_version": "1.2.0",
            "_model_name": "LayoutModel",
            "_view_count": null,
            "_view_module": "@jupyter-widgets/base",
            "_view_module_version": "1.2.0",
            "_view_name": "LayoutView",
            "align_content": null,
            "align_items": null,
            "align_self": null,
            "border": null,
            "bottom": null,
            "display": null,
            "flex": null,
            "flex_flow": null,
            "grid_area": null,
            "grid_auto_columns": null,
            "grid_auto_flow": null,
            "grid_auto_rows": null,
            "grid_column": null,
            "grid_gap": null,
            "grid_row": null,
            "grid_template_areas": null,
            "grid_template_columns": null,
            "grid_template_rows": null,
            "height": null,
            "justify_content": null,
            "justify_items": null,
            "left": null,
            "margin": null,
            "max_height": null,
            "max_width": null,
            "min_height": null,
            "min_width": null,
            "object_fit": null,
            "object_position": null,
            "order": null,
            "overflow": null,
            "overflow_x": null,
            "overflow_y": null,
            "padding": null,
            "right": null,
            "top": null,
            "visibility": null,
            "width": null
          }
        },
        "ab91fd625bbd43afbf8c6398193a88d0": {
          "model_module": "@jupyter-widgets/base",
          "model_module_version": "1.2.0",
          "model_name": "LayoutModel",
          "state": {
            "_model_module": "@jupyter-widgets/base",
            "_model_module_version": "1.2.0",
            "_model_name": "LayoutModel",
            "_view_count": null,
            "_view_module": "@jupyter-widgets/base",
            "_view_module_version": "1.2.0",
            "_view_name": "LayoutView",
            "align_content": null,
            "align_items": null,
            "align_self": null,
            "border": null,
            "bottom": null,
            "display": null,
            "flex": null,
            "flex_flow": null,
            "grid_area": null,
            "grid_auto_columns": null,
            "grid_auto_flow": null,
            "grid_auto_rows": null,
            "grid_column": null,
            "grid_gap": null,
            "grid_row": null,
            "grid_template_areas": null,
            "grid_template_columns": null,
            "grid_template_rows": null,
            "height": null,
            "justify_content": null,
            "justify_items": null,
            "left": null,
            "margin": null,
            "max_height": null,
            "max_width": null,
            "min_height": null,
            "min_width": null,
            "object_fit": null,
            "object_position": null,
            "order": null,
            "overflow": null,
            "overflow_x": null,
            "overflow_y": null,
            "padding": null,
            "right": null,
            "top": null,
            "visibility": null,
            "width": "20px"
          }
        },
        "ad84e0e971d3455db2efe7dd0d1f803e": {
          "model_module": "@jupyter-widgets/controls",
          "model_module_version": "1.5.0",
          "model_name": "FloatProgressModel",
          "state": {
            "_dom_classes": [],
            "_model_module": "@jupyter-widgets/controls",
            "_model_module_version": "1.5.0",
            "_model_name": "FloatProgressModel",
            "_view_count": null,
            "_view_module": "@jupyter-widgets/controls",
            "_view_module_version": "1.5.0",
            "_view_name": "ProgressView",
            "bar_style": "success",
            "description": "",
            "description_tooltip": null,
            "layout": "IPY_MODEL_ab91fd625bbd43afbf8c6398193a88d0",
            "max": 1,
            "min": 0,
            "orientation": "horizontal",
            "style": "IPY_MODEL_716557ad09874dcb989d75f7c74424cd",
            "value": 1
          }
        },
        "efcf57067cf743d8b4ce059a61cbe02e": {
          "model_module": "@jupyter-widgets/controls",
          "model_module_version": "1.5.0",
          "model_name": "HBoxModel",
          "state": {
            "_dom_classes": [],
            "_model_module": "@jupyter-widgets/controls",
            "_model_module_version": "1.5.0",
            "_model_name": "HBoxModel",
            "_view_count": null,
            "_view_module": "@jupyter-widgets/controls",
            "_view_module_version": "1.5.0",
            "_view_name": "HBoxView",
            "box_style": "",
            "children": [
              "IPY_MODEL_53e33aae3b97490c82aec7bbb0d6ebba",
              "IPY_MODEL_ad84e0e971d3455db2efe7dd0d1f803e",
              "IPY_MODEL_72adef9b70dd48198b7322b6c5b113cf"
            ],
            "layout": "IPY_MODEL_8a61d045ffd44ac58f3f13eb10044836"
          }
        }
      }
    }
  },
  "nbformat": 4,
  "nbformat_minor": 0
}
